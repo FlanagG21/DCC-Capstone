{
  "nbformat": 4,
  "nbformat_minor": 0,
  "metadata": {
    "colab": {
      "provenance": [],
      "include_colab_link": true
    },
    "kernelspec": {
      "name": "python3",
      "display_name": "Python 3"
    },
    "language_info": {
      "name": "python"
    }
  },
  "cells": [
    {
      "cell_type": "markdown",
      "metadata": {
        "id": "view-in-github",
        "colab_type": "text"
      },
      "source": [
        "<a href=\"https://colab.research.google.com/github/FlanagG21/DCC-Capstone/blob/main/CS4664_Capstone_Project.ipynb\" target=\"_parent\"><img src=\"https://colab.research.google.com/assets/colab-badge.svg\" alt=\"Open In Colab\"/></a>"
      ]
    },
    {
      "cell_type": "markdown",
      "source": [
        "#Movies\n"
      ],
      "metadata": {
        "id": "HgFUh5ctd860"
      }
    },
    {
      "cell_type": "code",
      "source": [
        "#establish connection to google drive - needs to be run from personal account\n",
        "from google.colab import drive\n",
        "drive.mount('/content/drive')\n",
        "file_path = '/content/drive/MyDrive/DCC Project/' #change this to match your google drive"
      ],
      "metadata": {
        "id": "w7DvsC_E6CYR",
        "colab": {
          "base_uri": "https://localhost:8080/"
        },
        "outputId": "67a80773-192a-4f1c-998a-cdab48356a4a"
      },
      "execution_count": null,
      "outputs": [
        {
          "output_type": "stream",
          "name": "stdout",
          "text": [
            "Drive already mounted at /content/drive; to attempt to forcibly remount, call drive.mount(\"/content/drive\", force_remount=True).\n"
          ]
        }
      ]
    },
    {
      "cell_type": "code",
      "execution_count": null,
      "metadata": {
        "id": "RcLhBieYKik6"
      },
      "outputs": [],
      "source": [
        "import pandas as pd\n",
        "\n",
        "# import kaggle movie data\n",
        "kaggle_movies = pd.read_csv(file_path + 'wiki_movie_plots_deduped.csv')\n",
        "#kaggle_movies.head()\n",
        "#kaggle_movies.count() - 34,886\n"
      ]
    },
    {
      "cell_type": "code",
      "source": [
        "#limit to just English/British movies\n",
        "kaggle_movies = kaggle_movies[kaggle_movies['Origin/Ethnicity'].isin(['American', 'British'])]\n",
        "#filtered_df.count()"
      ],
      "metadata": {
        "id": "5CkAwiVv9Tel"
      },
      "execution_count": null,
      "outputs": []
    },
    {
      "cell_type": "code",
      "source": [
        "#clean up dataframe\n",
        "kaggle_movies['Unique ID'] = kaggle_movies['Title'] + '-' + kaggle_movies['Release Year'].astype(str)\n",
        "kaggle_movies = kaggle_movies[['Unique ID', 'Release Year', 'Title', 'Genre', 'Plot']]\n",
        "#kaggle_movies.head()\n"
      ],
      "metadata": {
        "id": "deg4PnMud6ua"
      },
      "execution_count": null,
      "outputs": []
    },
    {
      "cell_type": "code",
      "source": [
        "#import cmu movie data\n",
        "cmu_movies = pd.read_csv(file_path + 'movie.metadata.tsv', delimiter='\\t')\n",
        "cmu_movies.columns = ['Wikipedia Movie ID',\n",
        "                      'Freebase Movie ID',\n",
        "                      'Title',\n",
        "                      'Release Date',\n",
        "                      'Box Office Revenue',\n",
        "                      'Runtime',\n",
        "                      'Languages',\n",
        "                      'Countries',\n",
        "                      'Genre']\n",
        "#cmu_movies.head()\n"
      ],
      "metadata": {
        "id": "8chBW2q-XVOW"
      },
      "execution_count": null,
      "outputs": []
    },
    {
      "cell_type": "code",
      "source": [
        "#add plots\n",
        "cmu_plots = pd.read_csv(file_path + 'plot_summaries.txt', delimiter='\\t')\n",
        "cmu_plots.columns = ['Wikipedia Movie ID', 'Plot']\n",
        "#cmu_plots.head()\n",
        "#cmu_plots.count()\n",
        "\n",
        "cmu_movies = pd.merge(cmu_plots, cmu_movies, on='Wikipedia Movie ID', how='left')\n",
        "#cmu_movies.head()"
      ],
      "metadata": {
        "id": "xe_cm8lfht3a"
      },
      "execution_count": null,
      "outputs": []
    },
    {
      "cell_type": "code",
      "source": [
        "#clean up dataframe\n",
        "cmu_movies['Release Year'] = cmu_movies['Release Date'].str[:4]\n",
        "cmu_movies['Unique ID'] = cmu_movies['Title'] + '-' + cmu_movies['Release Year'].astype(str)\n",
        "cmu_movies = cmu_movies[['Unique ID', 'Release Year', 'Title', 'Genre', 'Plot']]\n",
        "#cmu_movies.head()\n",
        "cmu_movies.count() #42,202 unique"
      ],
      "metadata": {
        "id": "J17bKwJcfe2i",
        "colab": {
          "base_uri": "https://localhost:8080/",
          "height": 241
        },
        "outputId": "c961c7df-d6a9-4139-b9a7-cee267f3e1bd"
      },
      "execution_count": null,
      "outputs": [
        {
          "output_type": "execute_result",
          "data": {
            "text/plain": [
              "Unique ID       42202\n",
              "Release Year    39584\n",
              "Title           42202\n",
              "Genre           42202\n",
              "Plot            42302\n",
              "dtype: int64"
            ],
            "text/html": [
              "<div>\n",
              "<style scoped>\n",
              "    .dataframe tbody tr th:only-of-type {\n",
              "        vertical-align: middle;\n",
              "    }\n",
              "\n",
              "    .dataframe tbody tr th {\n",
              "        vertical-align: top;\n",
              "    }\n",
              "\n",
              "    .dataframe thead th {\n",
              "        text-align: right;\n",
              "    }\n",
              "</style>\n",
              "<table border=\"1\" class=\"dataframe\">\n",
              "  <thead>\n",
              "    <tr style=\"text-align: right;\">\n",
              "      <th></th>\n",
              "      <th>0</th>\n",
              "    </tr>\n",
              "  </thead>\n",
              "  <tbody>\n",
              "    <tr>\n",
              "      <th>Unique ID</th>\n",
              "      <td>42202</td>\n",
              "    </tr>\n",
              "    <tr>\n",
              "      <th>Release Year</th>\n",
              "      <td>39584</td>\n",
              "    </tr>\n",
              "    <tr>\n",
              "      <th>Title</th>\n",
              "      <td>42202</td>\n",
              "    </tr>\n",
              "    <tr>\n",
              "      <th>Genre</th>\n",
              "      <td>42202</td>\n",
              "    </tr>\n",
              "    <tr>\n",
              "      <th>Plot</th>\n",
              "      <td>42302</td>\n",
              "    </tr>\n",
              "  </tbody>\n",
              "</table>\n",
              "</div><br><label><b>dtype:</b> int64</label>"
            ]
          },
          "metadata": {},
          "execution_count": 17
        }
      ]
    },
    {
      "cell_type": "code",
      "source": [
        "#concat the two dataframes together\n",
        "\n",
        "joined_movies = pd.concat([kaggle_movies, cmu_movies], ignore_index=True)\n",
        "print(f\"Joined Movies\\nCount:\\n{joined_movies.count()}\") #63,249\n",
        "print(f\"\\nUnique count: {joined_movies['Unique ID'].nunique()}\") #50,287\n",
        "\n",
        "movies = joined_movies.drop_duplicates(subset=['Unique ID'])\n",
        "print(f\"\\n\\nMovies\\nCount:\\n{movies.count()}\") #50,287\n",
        "print(f\"\\nUnique count: {movies['Unique ID'].nunique()}\") #50,287\n"
      ],
      "metadata": {
        "colab": {
          "base_uri": "https://localhost:8080/"
        },
        "id": "HfwJrwe6bVNO",
        "outputId": "d28496ab-b2b2-4cd7-d2d1-f7ff6961eb60"
      },
      "execution_count": null,
      "outputs": [
        {
          "output_type": "stream",
          "name": "stdout",
          "text": [
            "Joined Movies\n",
            "Count:\n",
            "Unique ID       63249\n",
            "Release Year    60631\n",
            "Title           63249\n",
            "Genre           63249\n",
            "Plot            63349\n",
            "dtype: int64\n",
            "\n",
            "Unique count: 50287\n",
            "\n",
            "\n",
            "Movies\n",
            "Count:\n",
            "Unique ID       50287\n",
            "Release Year    47680\n",
            "Title           50287\n",
            "Genre           50287\n",
            "Plot            50288\n",
            "dtype: int64\n",
            "\n",
            "Unique count: 50287\n"
          ]
        }
      ]
    },
    {
      "cell_type": "code",
      "source": [
        "movies.head()"
      ],
      "metadata": {
        "colab": {
          "base_uri": "https://localhost:8080/",
          "height": 206
        },
        "id": "jF8EfZ3QZM75",
        "outputId": "85c22f88-d945-4f17-e105-c491c7a9e47c"
      },
      "execution_count": null,
      "outputs": [
        {
          "output_type": "execute_result",
          "data": {
            "text/plain": [
              "                               Unique ID Release Year  \\\n",
              "0            Kansas Saloon Smashers-1901         1901   \n",
              "1     Love by the Light of the Moon-1901         1901   \n",
              "2           The Martyred Presidents-1901         1901   \n",
              "3  Terrible Teddy, the Grizzly King-1901         1901   \n",
              "4            Jack and the Beanstalk-1902         1902   \n",
              "\n",
              "                              Title    Genre  \\\n",
              "0            Kansas Saloon Smashers  unknown   \n",
              "1     Love by the Light of the Moon  unknown   \n",
              "2           The Martyred Presidents  unknown   \n",
              "3  Terrible Teddy, the Grizzly King  unknown   \n",
              "4            Jack and the Beanstalk  unknown   \n",
              "\n",
              "                                                Plot  \n",
              "0  A bartender is working at a saloon, serving dr...  \n",
              "1  The moon, painted with a smiling face hangs ov...  \n",
              "2  The film, just over a minute long, is composed...  \n",
              "3  Lasting just 61 seconds and consisting of two ...  \n",
              "4  The earliest known adaptation of the classic f...  "
            ],
            "text/html": [
              "\n",
              "  <div id=\"df-96f73c09-db67-4f16-8a8a-0e71df776224\" class=\"colab-df-container\">\n",
              "    <div>\n",
              "<style scoped>\n",
              "    .dataframe tbody tr th:only-of-type {\n",
              "        vertical-align: middle;\n",
              "    }\n",
              "\n",
              "    .dataframe tbody tr th {\n",
              "        vertical-align: top;\n",
              "    }\n",
              "\n",
              "    .dataframe thead th {\n",
              "        text-align: right;\n",
              "    }\n",
              "</style>\n",
              "<table border=\"1\" class=\"dataframe\">\n",
              "  <thead>\n",
              "    <tr style=\"text-align: right;\">\n",
              "      <th></th>\n",
              "      <th>Unique ID</th>\n",
              "      <th>Release Year</th>\n",
              "      <th>Title</th>\n",
              "      <th>Genre</th>\n",
              "      <th>Plot</th>\n",
              "    </tr>\n",
              "  </thead>\n",
              "  <tbody>\n",
              "    <tr>\n",
              "      <th>0</th>\n",
              "      <td>Kansas Saloon Smashers-1901</td>\n",
              "      <td>1901</td>\n",
              "      <td>Kansas Saloon Smashers</td>\n",
              "      <td>unknown</td>\n",
              "      <td>A bartender is working at a saloon, serving dr...</td>\n",
              "    </tr>\n",
              "    <tr>\n",
              "      <th>1</th>\n",
              "      <td>Love by the Light of the Moon-1901</td>\n",
              "      <td>1901</td>\n",
              "      <td>Love by the Light of the Moon</td>\n",
              "      <td>unknown</td>\n",
              "      <td>The moon, painted with a smiling face hangs ov...</td>\n",
              "    </tr>\n",
              "    <tr>\n",
              "      <th>2</th>\n",
              "      <td>The Martyred Presidents-1901</td>\n",
              "      <td>1901</td>\n",
              "      <td>The Martyred Presidents</td>\n",
              "      <td>unknown</td>\n",
              "      <td>The film, just over a minute long, is composed...</td>\n",
              "    </tr>\n",
              "    <tr>\n",
              "      <th>3</th>\n",
              "      <td>Terrible Teddy, the Grizzly King-1901</td>\n",
              "      <td>1901</td>\n",
              "      <td>Terrible Teddy, the Grizzly King</td>\n",
              "      <td>unknown</td>\n",
              "      <td>Lasting just 61 seconds and consisting of two ...</td>\n",
              "    </tr>\n",
              "    <tr>\n",
              "      <th>4</th>\n",
              "      <td>Jack and the Beanstalk-1902</td>\n",
              "      <td>1902</td>\n",
              "      <td>Jack and the Beanstalk</td>\n",
              "      <td>unknown</td>\n",
              "      <td>The earliest known adaptation of the classic f...</td>\n",
              "    </tr>\n",
              "  </tbody>\n",
              "</table>\n",
              "</div>\n",
              "    <div class=\"colab-df-buttons\">\n",
              "\n",
              "  <div class=\"colab-df-container\">\n",
              "    <button class=\"colab-df-convert\" onclick=\"convertToInteractive('df-96f73c09-db67-4f16-8a8a-0e71df776224')\"\n",
              "            title=\"Convert this dataframe to an interactive table.\"\n",
              "            style=\"display:none;\">\n",
              "\n",
              "  <svg xmlns=\"http://www.w3.org/2000/svg\" height=\"24px\" viewBox=\"0 -960 960 960\">\n",
              "    <path d=\"M120-120v-720h720v720H120Zm60-500h600v-160H180v160Zm220 220h160v-160H400v160Zm0 220h160v-160H400v160ZM180-400h160v-160H180v160Zm440 0h160v-160H620v160ZM180-180h160v-160H180v160Zm440 0h160v-160H620v160Z\"/>\n",
              "  </svg>\n",
              "    </button>\n",
              "\n",
              "  <style>\n",
              "    .colab-df-container {\n",
              "      display:flex;\n",
              "      gap: 12px;\n",
              "    }\n",
              "\n",
              "    .colab-df-convert {\n",
              "      background-color: #E8F0FE;\n",
              "      border: none;\n",
              "      border-radius: 50%;\n",
              "      cursor: pointer;\n",
              "      display: none;\n",
              "      fill: #1967D2;\n",
              "      height: 32px;\n",
              "      padding: 0 0 0 0;\n",
              "      width: 32px;\n",
              "    }\n",
              "\n",
              "    .colab-df-convert:hover {\n",
              "      background-color: #E2EBFA;\n",
              "      box-shadow: 0px 1px 2px rgba(60, 64, 67, 0.3), 0px 1px 3px 1px rgba(60, 64, 67, 0.15);\n",
              "      fill: #174EA6;\n",
              "    }\n",
              "\n",
              "    .colab-df-buttons div {\n",
              "      margin-bottom: 4px;\n",
              "    }\n",
              "\n",
              "    [theme=dark] .colab-df-convert {\n",
              "      background-color: #3B4455;\n",
              "      fill: #D2E3FC;\n",
              "    }\n",
              "\n",
              "    [theme=dark] .colab-df-convert:hover {\n",
              "      background-color: #434B5C;\n",
              "      box-shadow: 0px 1px 3px 1px rgba(0, 0, 0, 0.15);\n",
              "      filter: drop-shadow(0px 1px 2px rgba(0, 0, 0, 0.3));\n",
              "      fill: #FFFFFF;\n",
              "    }\n",
              "  </style>\n",
              "\n",
              "    <script>\n",
              "      const buttonEl =\n",
              "        document.querySelector('#df-96f73c09-db67-4f16-8a8a-0e71df776224 button.colab-df-convert');\n",
              "      buttonEl.style.display =\n",
              "        google.colab.kernel.accessAllowed ? 'block' : 'none';\n",
              "\n",
              "      async function convertToInteractive(key) {\n",
              "        const element = document.querySelector('#df-96f73c09-db67-4f16-8a8a-0e71df776224');\n",
              "        const dataTable =\n",
              "          await google.colab.kernel.invokeFunction('convertToInteractive',\n",
              "                                                    [key], {});\n",
              "        if (!dataTable) return;\n",
              "\n",
              "        const docLinkHtml = 'Like what you see? Visit the ' +\n",
              "          '<a target=\"_blank\" href=https://colab.research.google.com/notebooks/data_table.ipynb>data table notebook</a>'\n",
              "          + ' to learn more about interactive tables.';\n",
              "        element.innerHTML = '';\n",
              "        dataTable['output_type'] = 'display_data';\n",
              "        await google.colab.output.renderOutput(dataTable, element);\n",
              "        const docLink = document.createElement('div');\n",
              "        docLink.innerHTML = docLinkHtml;\n",
              "        element.appendChild(docLink);\n",
              "      }\n",
              "    </script>\n",
              "  </div>\n",
              "\n",
              "\n",
              "<div id=\"df-a578720e-e048-4b62-b6ba-571db2d82d1e\">\n",
              "  <button class=\"colab-df-quickchart\" onclick=\"quickchart('df-a578720e-e048-4b62-b6ba-571db2d82d1e')\"\n",
              "            title=\"Suggest charts\"\n",
              "            style=\"display:none;\">\n",
              "\n",
              "<svg xmlns=\"http://www.w3.org/2000/svg\" height=\"24px\"viewBox=\"0 0 24 24\"\n",
              "     width=\"24px\">\n",
              "    <g>\n",
              "        <path d=\"M19 3H5c-1.1 0-2 .9-2 2v14c0 1.1.9 2 2 2h14c1.1 0 2-.9 2-2V5c0-1.1-.9-2-2-2zM9 17H7v-7h2v7zm4 0h-2V7h2v10zm4 0h-2v-4h2v4z\"/>\n",
              "    </g>\n",
              "</svg>\n",
              "  </button>\n",
              "\n",
              "<style>\n",
              "  .colab-df-quickchart {\n",
              "      --bg-color: #E8F0FE;\n",
              "      --fill-color: #1967D2;\n",
              "      --hover-bg-color: #E2EBFA;\n",
              "      --hover-fill-color: #174EA6;\n",
              "      --disabled-fill-color: #AAA;\n",
              "      --disabled-bg-color: #DDD;\n",
              "  }\n",
              "\n",
              "  [theme=dark] .colab-df-quickchart {\n",
              "      --bg-color: #3B4455;\n",
              "      --fill-color: #D2E3FC;\n",
              "      --hover-bg-color: #434B5C;\n",
              "      --hover-fill-color: #FFFFFF;\n",
              "      --disabled-bg-color: #3B4455;\n",
              "      --disabled-fill-color: #666;\n",
              "  }\n",
              "\n",
              "  .colab-df-quickchart {\n",
              "    background-color: var(--bg-color);\n",
              "    border: none;\n",
              "    border-radius: 50%;\n",
              "    cursor: pointer;\n",
              "    display: none;\n",
              "    fill: var(--fill-color);\n",
              "    height: 32px;\n",
              "    padding: 0;\n",
              "    width: 32px;\n",
              "  }\n",
              "\n",
              "  .colab-df-quickchart:hover {\n",
              "    background-color: var(--hover-bg-color);\n",
              "    box-shadow: 0 1px 2px rgba(60, 64, 67, 0.3), 0 1px 3px 1px rgba(60, 64, 67, 0.15);\n",
              "    fill: var(--button-hover-fill-color);\n",
              "  }\n",
              "\n",
              "  .colab-df-quickchart-complete:disabled,\n",
              "  .colab-df-quickchart-complete:disabled:hover {\n",
              "    background-color: var(--disabled-bg-color);\n",
              "    fill: var(--disabled-fill-color);\n",
              "    box-shadow: none;\n",
              "  }\n",
              "\n",
              "  .colab-df-spinner {\n",
              "    border: 2px solid var(--fill-color);\n",
              "    border-color: transparent;\n",
              "    border-bottom-color: var(--fill-color);\n",
              "    animation:\n",
              "      spin 1s steps(1) infinite;\n",
              "  }\n",
              "\n",
              "  @keyframes spin {\n",
              "    0% {\n",
              "      border-color: transparent;\n",
              "      border-bottom-color: var(--fill-color);\n",
              "      border-left-color: var(--fill-color);\n",
              "    }\n",
              "    20% {\n",
              "      border-color: transparent;\n",
              "      border-left-color: var(--fill-color);\n",
              "      border-top-color: var(--fill-color);\n",
              "    }\n",
              "    30% {\n",
              "      border-color: transparent;\n",
              "      border-left-color: var(--fill-color);\n",
              "      border-top-color: var(--fill-color);\n",
              "      border-right-color: var(--fill-color);\n",
              "    }\n",
              "    40% {\n",
              "      border-color: transparent;\n",
              "      border-right-color: var(--fill-color);\n",
              "      border-top-color: var(--fill-color);\n",
              "    }\n",
              "    60% {\n",
              "      border-color: transparent;\n",
              "      border-right-color: var(--fill-color);\n",
              "    }\n",
              "    80% {\n",
              "      border-color: transparent;\n",
              "      border-right-color: var(--fill-color);\n",
              "      border-bottom-color: var(--fill-color);\n",
              "    }\n",
              "    90% {\n",
              "      border-color: transparent;\n",
              "      border-bottom-color: var(--fill-color);\n",
              "    }\n",
              "  }\n",
              "</style>\n",
              "\n",
              "  <script>\n",
              "    async function quickchart(key) {\n",
              "      const quickchartButtonEl =\n",
              "        document.querySelector('#' + key + ' button');\n",
              "      quickchartButtonEl.disabled = true;  // To prevent multiple clicks.\n",
              "      quickchartButtonEl.classList.add('colab-df-spinner');\n",
              "      try {\n",
              "        const charts = await google.colab.kernel.invokeFunction(\n",
              "            'suggestCharts', [key], {});\n",
              "      } catch (error) {\n",
              "        console.error('Error during call to suggestCharts:', error);\n",
              "      }\n",
              "      quickchartButtonEl.classList.remove('colab-df-spinner');\n",
              "      quickchartButtonEl.classList.add('colab-df-quickchart-complete');\n",
              "    }\n",
              "    (() => {\n",
              "      let quickchartButtonEl =\n",
              "        document.querySelector('#df-a578720e-e048-4b62-b6ba-571db2d82d1e button');\n",
              "      quickchartButtonEl.style.display =\n",
              "        google.colab.kernel.accessAllowed ? 'block' : 'none';\n",
              "    })();\n",
              "  </script>\n",
              "</div>\n",
              "\n",
              "    </div>\n",
              "  </div>\n"
            ],
            "application/vnd.google.colaboratory.intrinsic+json": {
              "type": "dataframe",
              "variable_name": "movies",
              "summary": "{\n  \"name\": \"movies\",\n  \"rows\": 50288,\n  \"fields\": [\n    {\n      \"column\": \"Unique ID\",\n      \"properties\": {\n        \"dtype\": \"string\",\n        \"num_unique_values\": 50287,\n        \"samples\": [\n          \"Fight Night-2009\",\n          \"Scat Cats-1957\",\n          \"Molla Barir Bou-2005\"\n        ],\n        \"semantic_type\": \"\",\n        \"description\": \"\"\n      }\n    },\n    {\n      \"column\": \"Release Year\",\n      \"properties\": {\n        \"dtype\": \"category\",\n        \"num_unique_values\": 240,\n        \"samples\": [\n          1925,\n          1907,\n          1994\n        ],\n        \"semantic_type\": \"\",\n        \"description\": \"\"\n      }\n    },\n    {\n      \"column\": \"Title\",\n      \"properties\": {\n        \"dtype\": \"string\",\n        \"num_unique_values\": 46386,\n        \"samples\": [\n          \"Ekspedisi Madewa\",\n          \"No Entry Pudhe Dhoka Aahey\",\n          \"The Wedding Album\"\n        ],\n        \"semantic_type\": \"\",\n        \"description\": \"\"\n      }\n    },\n    {\n      \"column\": \"Genre\",\n      \"properties\": {\n        \"dtype\": \"category\",\n        \"num_unique_values\": 11797,\n        \"samples\": [\n          \"{\\\"/m/03npn\\\": \\\"Horror\\\", \\\"/m/0219x_\\\": \\\"Indie\\\", \\\"/m/03q4nz\\\": \\\"World cinema\\\", \\\"/m/03btsm8\\\": \\\"Action/Adventure\\\", \\\"/m/07s9rl0\\\": \\\"Drama\\\", \\\"/m/01z4y\\\": \\\"Comedy\\\", \\\"/m/082gq\\\": \\\"War film\\\"}\",\n          \"adventure, comedy, fantasy\",\n          \"{\\\"/m/0q9mp\\\": \\\"Tragicomedy\\\", \\\"/m/02h8pkk\\\": \\\"Family Drama\\\", \\\"/m/07s9rl0\\\": \\\"Drama\\\", \\\"/m/03q4nz\\\": \\\"World cinema\\\"}\"\n        ],\n        \"semantic_type\": \"\",\n        \"description\": \"\"\n      }\n    },\n    {\n      \"column\": \"Plot\",\n      \"properties\": {\n        \"dtype\": \"string\",\n        \"num_unique_values\": 50018,\n        \"samples\": [\n          \"As an exhausted Woody trudges through the streets trying to find a room for the night, he comes across a vacancy in Wally Walrus' house. Woody instantly falls asleep in Wally's bed and begins to snore in a variety of bizarre ways that drive him crazy all night long. When morning comes, Woody awakes refreshed and goes cheerfully on his way, while Wally is left to suffer the effects of sleep deprivation.\",\n          \"In 1980, young George O'Dowd argues with his parents over his femininity and moves into a squat with Peter, who dresses as Marilyn Monroe and calls himself Marilyn. They make themselves known at Steve Strange's trendy Blitz Club where George gets a job in the cloakroom. George is unlucky in his relationships with men until he meets musician Kirk Brandon. Through Kirk George meets the handsome drummer Jon Moss, on whom he develops a crush. Sacked by the Blitz and spurned by Kirk, George turns to Sex Pistols manager Malcolm McLaren to further his music career. George's spell with McLaren's group Bow Wow Wow is short when the rest of the group reveal to McLaren how much they hate George. But fan Mikey Craig is impressed and asks George to sing in a group he is forming, where George again meets Jon. They have an affair and the group become the very successful Culture Club. Four years later, however, hounded by the tabloid press amid stories of his drug addiction, an unhappy George turns to Jon for advice on his future.\",\n          \"An unemployed young man who has just broken up with his girlfriend meets a woman at a bicycle race. They start dating but then strange things then begin to happen to him, including a beating from the local yakuza.\"\n        ],\n        \"semantic_type\": \"\",\n        \"description\": \"\"\n      }\n    }\n  ]\n}"
            }
          },
          "metadata": {},
          "execution_count": 19
        }
      ]
    },
    {
      "cell_type": "markdown",
      "source": [
        "**NOTES**\n",
        "*  'movies' contains the combined data from the two movie sources.\n",
        "*   columns: Unique ID, Release Year, Title, Genre, Plot\n",
        "*   The Unique ID is for cases when movies are re-released in a different year with the same title\n",
        "\n"
      ],
      "metadata": {
        "id": "WxLpcDKR3pvA"
      }
    },
    {
      "cell_type": "code",
      "source": [],
      "metadata": {
        "id": "HcJPCSzj5O9s"
      },
      "execution_count": null,
      "outputs": []
    }
  ]
}
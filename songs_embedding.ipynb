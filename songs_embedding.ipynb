{
 "cells": [
  {
   "cell_type": "code",
   "execution_count": 1,
   "metadata": {
    "_cell_guid": "b1076dfc-b9ad-4769-8c92-a6c4dae69d19",
    "_uuid": "8f2839f25d086af736a60e9eeb907d3b93b6e0e5",
    "execution": {
     "iopub.execute_input": "2025-03-12T19:05:12.125111Z",
     "iopub.status.busy": "2025-03-12T19:05:12.124852Z",
     "iopub.status.idle": "2025-03-12T19:05:23.401218Z",
     "shell.execute_reply": "2025-03-12T19:05:23.400037Z",
     "shell.execute_reply.started": "2025-03-12T19:05:12.125086Z"
    },
    "trusted": true
   },
   "outputs": [],
   "source": [
    "import numpy as np # linear algebra\n",
    "import pandas as pd # data processing, CSV file I/O (e.g. pd.read_csv)\n",
    "import kagglehub\n",
    "from transformers import AutoTokenizer, AutoModel\n",
    "import torch\n",
    "import torch.nn.functional as F\n",
    "import matplotlib.pyplot as plt"
   ]
  },
  {
   "cell_type": "code",
   "execution_count": 3,
   "metadata": {
    "execution": {
     "iopub.execute_input": "2025-03-12T19:05:38.822808Z",
     "iopub.status.busy": "2025-03-12T19:05:38.822456Z",
     "iopub.status.idle": "2025-03-12T19:06:05.835430Z",
     "shell.execute_reply": "2025-03-12T19:06:05.834282Z",
     "shell.execute_reply.started": "2025-03-12T19:05:38.822780Z"
    },
    "trusted": true
   },
   "outputs": [
    {
     "data": {
      "text/html": [
       "<div>\n",
       "<style scoped>\n",
       "    .dataframe tbody tr th:only-of-type {\n",
       "        vertical-align: middle;\n",
       "    }\n",
       "\n",
       "    .dataframe tbody tr th {\n",
       "        vertical-align: top;\n",
       "    }\n",
       "\n",
       "    .dataframe thead th {\n",
       "        text-align: right;\n",
       "    }\n",
       "</style>\n",
       "<table border=\"1\" class=\"dataframe\">\n",
       "  <thead>\n",
       "    <tr style=\"text-align: right;\">\n",
       "      <th></th>\n",
       "      <th>title</th>\n",
       "      <th>tag</th>\n",
       "      <th>lyrics</th>\n",
       "    </tr>\n",
       "  </thead>\n",
       "  <tbody>\n",
       "    <tr>\n",
       "      <th>0</th>\n",
       "      <td>Poor Poor Pitiful Me</td>\n",
       "      <td>country</td>\n",
       "      <td>[Verse 1]\\nWell I lay my head on the railroad ...</td>\n",
       "    </tr>\n",
       "    <tr>\n",
       "      <th>1</th>\n",
       "      <td>Cuckoos Nest</td>\n",
       "      <td>country</td>\n",
       "      <td>There is a thorn bush\\nIn Outcolia\\n\\nThere is...</td>\n",
       "    </tr>\n",
       "    <tr>\n",
       "      <th>2</th>\n",
       "      <td>Wedding Bells</td>\n",
       "      <td>country</td>\n",
       "      <td>I have the invitation that your sent me\\nYou w...</td>\n",
       "    </tr>\n",
       "    <tr>\n",
       "      <th>3</th>\n",
       "      <td>Could Have Fooled Me</td>\n",
       "      <td>country</td>\n",
       "      <td>I'm fading like the taillights\\nOf a car that ...</td>\n",
       "    </tr>\n",
       "    <tr>\n",
       "      <th>4</th>\n",
       "      <td>Shot of Glory</td>\n",
       "      <td>country</td>\n",
       "      <td>It's finally payday\\nMeeting the boys at my pl...</td>\n",
       "    </tr>\n",
       "  </tbody>\n",
       "</table>\n",
       "</div>"
      ],
      "text/plain": [
       "                  title      tag  \\\n",
       "0  Poor Poor Pitiful Me  country   \n",
       "1          Cuckoos Nest  country   \n",
       "2         Wedding Bells  country   \n",
       "3  Could Have Fooled Me  country   \n",
       "4         Shot of Glory  country   \n",
       "\n",
       "                                              lyrics  \n",
       "0  [Verse 1]\\nWell I lay my head on the railroad ...  \n",
       "1  There is a thorn bush\\nIn Outcolia\\n\\nThere is...  \n",
       "2  I have the invitation that your sent me\\nYou w...  \n",
       "3  I'm fading like the taillights\\nOf a car that ...  \n",
       "4  It's finally payday\\nMeeting the boys at my pl...  "
      ]
     },
     "execution_count": 3,
     "metadata": {},
     "output_type": "execute_result"
    }
   ],
   "source": [
    "df = pd.read_csv(\"/kaggle/input/reduce-lyrics/reduced_lyrics.csv\")\n",
    "df.head()"
   ]
  },
  {
   "cell_type": "code",
   "execution_count": 5,
   "metadata": {
    "execution": {
     "iopub.execute_input": "2025-03-12T19:06:53.001240Z",
     "iopub.status.busy": "2025-03-12T19:06:53.000898Z",
     "iopub.status.idle": "2025-03-12T19:06:53.394215Z",
     "shell.execute_reply": "2025-03-12T19:06:53.393244Z",
     "shell.execute_reply.started": "2025-03-12T19:06:53.001214Z"
    },
    "trusted": true
   },
   "outputs": [
    {
     "data": {
      "image/png": "[encoded data removed]",
      "text/plain": [
       "<Figure size 640x480 with 1 Axes>"
      ]
     },
     "metadata": {},
     "output_type": "display_data"
    }
   ],
   "source": [
    "# distribution of genre \n",
    "df['tag'].value_counts()\n",
    "genre_distribution = df['tag'].value_counts()\n",
    "genre_distribution.plot(kind='bar', title='Genre Distribution')\n",
    "plt.xlabel('Genre')\n",
    "plt.ylabel('Count')\n",
    "plt.show()\n"
   ]
  },
  {
   "cell_type": "code",
   "execution_count": 6,
   "metadata": {
    "execution": {
     "iopub.execute_input": "2025-03-12T19:07:17.678998Z",
     "iopub.status.busy": "2025-03-12T19:07:17.678668Z",
     "iopub.status.idle": "2025-03-12T19:07:17.712964Z",
     "shell.execute_reply": "2025-03-12T19:07:17.711892Z",
     "shell.execute_reply.started": "2025-03-12T19:07:17.678973Z"
    },
    "trusted": true
   },
   "outputs": [],
   "source": [
    "df_clean = df.copy()"
   ]
  },
  {
   "cell_type": "markdown",
   "metadata": {},
   "source": [
    "# Data Cleaning"
   ]
  },
  {
   "cell_type": "code",
   "execution_count": 7,
   "metadata": {
    "execution": {
     "iopub.execute_input": "2025-03-12T19:07:19.541748Z",
     "iopub.status.busy": "2025-03-12T19:07:19.541246Z",
     "iopub.status.idle": "2025-03-12T19:07:56.749801Z",
     "shell.execute_reply": "2025-03-12T19:07:56.748658Z",
     "shell.execute_reply.started": "2025-03-12T19:07:19.541717Z"
    },
    "trusted": true
   },
   "outputs": [
    {
     "name": "stdout",
     "output_type": "stream",
     "text": [
      "0    Well I lay my head on the railroad track\\nWait...\n",
      "1    There is a thorn bush\\nIn Outcolia\\nThere is a...\n",
      "2    I have the invitation that your sent me\\nYou w...\n",
      "3    Im fading like the taillights\\nOf a car that y...\n",
      "4    Its finally payday\\nMeeting the boys at my pla...\n",
      "Name: lyrics, dtype: object\n"
     ]
    }
   ],
   "source": [
    "import re\n",
    "# to reduce vocab size let s try to remove more unecessary symbols and parts \n",
    "# Define a cleaning function\n",
    "def clean_lyrics(lyrics):\n",
    "    # Remove section tags like [Intro], [Verse 1], etc.\n",
    "    cleaned = re.sub(r'\\[.*?\\]', '', lyrics)\n",
    "    \n",
    "    # Remove credits or text after \"---\"\n",
    "    cleaned = re.split(r'---', cleaned)[0]\n",
    "    \n",
    "    # Remove symbols except for line breaks (\\n) and alphanumeric characters\n",
    "    cleaned = re.sub(r'[^\\w\\s\\n]', '', cleaned)\n",
    "    \n",
    "    # Remove extra whitespace and blank lines\n",
    "    cleaned = re.sub(r'\\n\\s*\\n', '\\n', cleaned).strip()\n",
    "    \n",
    "    return cleaned\n",
    "\n",
    "# Apply the cleaning function\n",
    "df_clean['lyrics'] = df_clean['lyrics'].apply(clean_lyrics)\n",
    "print(df_clean['lyrics'].head(5))"
   ]
  },
  {
   "cell_type": "code",
   "execution_count": 8,
   "metadata": {
    "execution": {
     "iopub.execute_input": "2025-03-12T19:08:00.435400Z",
     "iopub.status.busy": "2025-03-12T19:08:00.435001Z",
     "iopub.status.idle": "2025-03-12T19:08:00.464013Z",
     "shell.execute_reply": "2025-03-12T19:08:00.462673Z",
     "shell.execute_reply.started": "2025-03-12T19:08:00.435365Z"
    },
    "trusted": true
   },
   "outputs": [
    {
     "name": "stdout",
     "output_type": "stream",
     "text": [
      "Look she a Barbie girl\n",
      "Look she a Barbie girl\n",
      "Look she a Barbie girl\n",
      "Look she a Barbie girl\n",
      "Got damn you cold baby\n",
      "Come live in my world\n",
      "Got damn you cold baby\n",
      "Come live in my world\n",
      "Look she a Barbie girl\n",
      "She fresh up off the rack\n",
      "That outfit she got on\n",
      "It cost a half a rack\n",
      "That whip that she pushin\n",
      "It aint no taking back\n",
      "That bitch bad so damn bad\n",
      "I gotta run that back\n",
      "Look she a Barbie girl\n",
      "She fresh up off the rack\n",
      "That outfit she got on\n",
      "It cost a half a rack\n",
      "That whip that she pushin\n",
      "It aint no taking back\n",
      "She drop cash she own that\n",
      "It aint no renting that goodlook\n",
      "Look she a Barbie girl\n",
      "Her hair is down her back\n",
      "Her nails and toes done\n",
      "She stay on top of that\n",
      "That bitch a super freak\n",
      "Her ass is stupid fat\n",
      "Her titties sittin nicе\n",
      "Niggas in love with that\n",
      "Look she a Barbie girl\n",
      "Look shе a Barbie girl\n",
      "Look she a Barbie girl\n",
      "Look she a Barbie girl\n",
      "Got damn you cold baby\n",
      "Come live in my world\n",
      "Got damn you cold baby\n",
      "Come live in my world\n",
      "Look she a Barbie girl\n",
      "Go to the Barbie house\n",
      "Go eat some barb que\n",
      "Then get some Barbie mouth\n",
      "You see that Barbie walk\n",
      "You hear that Barbie talk\n",
      "Her car paid fo\n",
      "Cuz thats what Barbie bought\n",
      "She on some model shit\n",
      "She prolly let you hit\n",
      "She prolly suck yo dick\n",
      "But she dont swallow shit\n",
      "I love my Barbie bitch\n",
      "Find you a Barbie girl\n",
      "But if you touch my girl\n",
      "Then Ima end yo world\n",
      "She dont take no shit\n",
      "From a nigga or a bitch\n",
      "Her hustle hand right\n",
      "She can pull some tricks\n",
      "Black Barbie girls\n",
      "White Barbie girls\n",
      "I love all Barbie girls\n",
      "All around the world\n",
      "Look she a Barbie girl\n",
      "Look she a Barbie girl\n",
      "Look she a Barbie girl\n",
      "Look she a Barbie girl\n",
      "Got damn you cold baby\n",
      "Come live in my world\n",
      "Got damn you cold baby\n",
      "Come live in my world\n"
     ]
    }
   ],
   "source": [
    "pd.set_option('display.max_colwidth', None)\n",
    "# Get a random sample of lyrics\n",
    "print(df_clean['lyrics'].sample(1).iloc[0])\n",
    "# Optionally reset column width back to default (optional)\n",
    "pd.reset_option('display.max_colwidth')"
   ]
  },
  {
   "cell_type": "markdown",
   "metadata": {},
   "source": [
    "# Tokenization & Embedding\n",
    "\n",
    "sentence-transformers/all-mpnet-base-v2 : This is a sentence-transformers model: It maps sentences & paragraphs to a 768 dimensional dense vector space and can be used for tasks like clustering or semantic search.\n"
   ]
  },
  {
   "cell_type": "code",
   "execution_count": 10,
   "metadata": {
    "execution": {
     "iopub.execute_input": "2025-03-12T19:08:22.468930Z",
     "iopub.status.busy": "2025-03-12T19:08:22.468582Z",
     "iopub.status.idle": "2025-03-12T19:08:22.477195Z",
     "shell.execute_reply": "2025-03-12T19:08:22.475966Z",
     "shell.execute_reply.started": "2025-03-12T19:08:22.468902Z"
    },
    "trusted": true
   },
   "outputs": [
    {
     "name": "stdout",
     "output_type": "stream",
     "text": [
      "Using device: cpu\n"
     ]
    }
   ],
   "source": [
    "# Set up device for GPU if available\n",
    "device = torch.device(\"cuda\" if torch.cuda.is_available() else \"cpu\")\n",
    "print(\"Using device:\", device)"
   ]
  },
  {
   "cell_type": "code",
   "execution_count": 16,
   "metadata": {
    "execution": {
     "iopub.execute_input": "2025-03-12T14:26:22.116934Z",
     "iopub.status.busy": "2025-03-12T14:26:22.116532Z",
     "iopub.status.idle": "2025-03-12T14:26:22.123192Z",
     "shell.execute_reply": "2025-03-12T14:26:22.122494Z",
     "shell.execute_reply.started": "2025-03-12T14:26:22.116890Z"
    },
    "trusted": true
   },
   "outputs": [],
   "source": [
    "#Mean Pooling - Take attention mask into account for correct averaging\n",
    "def mean_pooling(model_output, attention_mask):\n",
    "    token_embeddings = model_output[0] #First element of model_output contains all token embeddings\n",
    "    input_mask_expanded = attention_mask.unsqueeze(-1).expand(token_embeddings.size()).float()\n",
    "    return torch.sum(token_embeddings * input_mask_expanded, 1) / torch.clamp(input_mask_expanded.sum(1), min=1e-9)"
   ]
  },
  {
   "cell_type": "code",
   "execution_count": 17,
   "metadata": {
    "execution": {
     "iopub.execute_input": "2025-03-12T14:26:22.124593Z",
     "iopub.status.busy": "2025-03-12T14:26:22.124282Z",
     "iopub.status.idle": "2025-03-12T14:26:28.719003Z",
     "shell.execute_reply": "2025-03-12T14:26:28.717993Z",
     "shell.execute_reply.started": "2025-03-12T14:26:22.124566Z"
    },
    "trusted": true
   },
   "outputs": [
    {
     "data": {
      "application/vnd.jupyter.widget-view+json": {
       "model_id": "e2e47cbbdcd6453e91e31a54a8c01c62",
       "version_major": 2,
       "version_minor": 0
      },
      "text/plain": [
       "tokenizer_config.json:   0%|          | 0.00/363 [00:00<?, ?B/s]"
      ]
     },
     "metadata": {},
     "output_type": "display_data"
    },
    {
     "data": {
      "application/vnd.jupyter.widget-view+json": {
       "model_id": "d0f0c9ee23774128aba69a6a9198594c",
       "version_major": 2,
       "version_minor": 0
      },
      "text/plain": [
       "vocab.txt:   0%|          | 0.00/232k [00:00<?, ?B/s]"
      ]
     },
     "metadata": {},
     "output_type": "display_data"
    },
    {
     "data": {
      "application/vnd.jupyter.widget-view+json": {
       "model_id": "08036d6c643e47e399751a1e71f9bcdc",
       "version_major": 2,
       "version_minor": 0
      },
      "text/plain": [
       "tokenizer.json:   0%|          | 0.00/466k [00:00<?, ?B/s]"
      ]
     },
     "metadata": {},
     "output_type": "display_data"
    },
    {
     "data": {
      "application/vnd.jupyter.widget-view+json": {
       "model_id": "a39704723b8a4a88a76acbba2e8a28aa",
       "version_major": 2,
       "version_minor": 0
      },
      "text/plain": [
       "special_tokens_map.json:   0%|          | 0.00/239 [00:00<?, ?B/s]"
      ]
     },
     "metadata": {},
     "output_type": "display_data"
    },
    {
     "name": "stderr",
     "output_type": "stream",
     "text": [
      "/opt/conda/lib/python3.10/site-packages/transformers/tokenization_utils_base.py:1617: FutureWarning: `clean_up_tokenization_spaces` was not set. It will be set to `True` by default. This behavior will be deprecated in transformers v4.45, and will be then set to `False` by default. For more details check this issue: https://github.com/huggingface/transformers/issues/31884\n",
      "  warnings.warn(\n"
     ]
    },
    {
     "data": {
      "application/vnd.jupyter.widget-view+json": {
       "model_id": "18bca2cf4c8d46949333ad9279aa4714",
       "version_major": 2,
       "version_minor": 0
      },
      "text/plain": [
       "config.json:   0%|          | 0.00/571 [00:00<?, ?B/s]"
      ]
     },
     "metadata": {},
     "output_type": "display_data"
    },
    {
     "data": {
      "application/vnd.jupyter.widget-view+json": {
       "model_id": "0efdc73c127f431a85514923d5dfb03b",
       "version_major": 2,
       "version_minor": 0
      },
      "text/plain": [
       "model.safetensors:   0%|          | 0.00/438M [00:00<?, ?B/s]"
      ]
     },
     "metadata": {},
     "output_type": "display_data"
    },
    {
     "data": {
      "text/plain": [
       "DataParallel(\n",
       "  (module): MPNetModel(\n",
       "    (embeddings): MPNetEmbeddings(\n",
       "      (word_embeddings): Embedding(30527, 768, padding_idx=1)\n",
       "      (position_embeddings): Embedding(514, 768, padding_idx=1)\n",
       "      (LayerNorm): LayerNorm((768,), eps=1e-05, elementwise_affine=True)\n",
       "      (dropout): Dropout(p=0.1, inplace=False)\n",
       "    )\n",
       "    (encoder): MPNetEncoder(\n",
       "      (layer): ModuleList(\n",
       "        (0-11): 12 x MPNetLayer(\n",
       "          (attention): MPNetAttention(\n",
       "            (attn): MPNetSelfAttention(\n",
       "              (q): Linear(in_features=768, out_features=768, bias=True)\n",
       "              (k): Linear(in_features=768, out_features=768, bias=True)\n",
       "              (v): Linear(in_features=768, out_features=768, bias=True)\n",
       "              (o): Linear(in_features=768, out_features=768, bias=True)\n",
       "              (dropout): Dropout(p=0.1, inplace=False)\n",
       "            )\n",
       "            (LayerNorm): LayerNorm((768,), eps=1e-05, elementwise_affine=True)\n",
       "            (dropout): Dropout(p=0.1, inplace=False)\n",
       "          )\n",
       "          (intermediate): MPNetIntermediate(\n",
       "            (dense): Linear(in_features=768, out_features=3072, bias=True)\n",
       "            (intermediate_act_fn): GELUActivation()\n",
       "          )\n",
       "          (output): MPNetOutput(\n",
       "            (dense): Linear(in_features=3072, out_features=768, bias=True)\n",
       "            (LayerNorm): LayerNorm((768,), eps=1e-05, elementwise_affine=True)\n",
       "            (dropout): Dropout(p=0.1, inplace=False)\n",
       "          )\n",
       "        )\n",
       "      )\n",
       "      (relative_attention_bias): Embedding(32, 12)\n",
       "    )\n",
       "    (pooler): MPNetPooler(\n",
       "      (dense): Linear(in_features=768, out_features=768, bias=True)\n",
       "      (activation): Tanh()\n",
       "    )\n",
       "  )\n",
       ")"
      ]
     },
     "execution_count": 17,
     "metadata": {},
     "output_type": "execute_result"
    }
   ],
   "source": [
    "# Load model from HuggingFace Hub and move to gpu\n",
    "tokenizer = AutoTokenizer.from_pretrained('sentence-transformers/all-mpnet-base-v2')\n",
    "model = AutoModel.from_pretrained('sentence-transformers/all-mpnet-base-v2')\n",
    "model = torch.nn.DataParallel(model)\n",
    "model.to(device)\n",
    "model.eval()  # Set model to evaluation mode"
   ]
  },
  {
   "cell_type": "code",
   "execution_count": 18,
   "metadata": {
    "execution": {
     "iopub.execute_input": "2025-03-12T14:26:28.720936Z",
     "iopub.status.busy": "2025-03-12T14:26:28.720508Z",
     "iopub.status.idle": "2025-03-12T14:26:28.725960Z",
     "shell.execute_reply": "2025-03-12T14:26:28.724941Z",
     "shell.execute_reply.started": "2025-03-12T14:26:28.720906Z"
    },
    "trusted": true
   },
   "outputs": [],
   "source": [
    "# Function to compute embedding\n",
    "def compute_embedding(text):\n",
    "    encoded_input = tokenizer(text, padding=True, truncation=True, return_tensors='pt')\n",
    "    with torch.no_grad():\n",
    "        model_output = model(**encoded_input)\n",
    "    sentence_embedding = mean_pooling(model_output, encoded_input['attention_mask'])\n",
    "    sentence_embedding = F.normalize(sentence_embedding, p=2, dim=1)\n",
    "    # Convert to list for Parquet compatibility\n",
    "    return sentence_embedding.squeeze().numpy().tolist()"
   ]
  },
  {
   "cell_type": "code",
   "execution_count": 19,
   "metadata": {
    "execution": {
     "iopub.execute_input": "2025-03-12T14:26:28.728026Z",
     "iopub.status.busy": "2025-03-12T14:26:28.727442Z",
     "iopub.status.idle": "2025-03-12T14:26:30.400491Z",
     "shell.execute_reply": "2025-03-12T14:26:30.399620Z",
     "shell.execute_reply.started": "2025-03-12T14:26:28.727986Z"
    },
    "trusted": true
   },
   "outputs": [],
   "source": [
    "# Function to compute embeddings in batches\n",
    "def compute_embeddings_batch(texts, batch_size=128):\n",
    "    embeddings_list = []\n",
    "    for i in range(0, len(texts), batch_size):\n",
    "        batch_texts = texts[i:i+batch_size]\n",
    "        # Tokenize batch of texts\n",
    "        encoded_input = tokenizer(batch_texts, padding=True, truncation=True, return_tensors='pt')\n",
    "        # Move tensors to GPU\n",
    "        encoded_input = {k: v.to(device) for k, v in encoded_input.items()}\n",
    "        # Compute embeddings without gradient tracking\n",
    "        with torch.no_grad():\n",
    "            model_output = model(**encoded_input)\n",
    "        batch_embeddings = mean_pooling(model_output, encoded_input['attention_mask'])\n",
    "        batch_embeddings = F.normalize(batch_embeddings, p=2, dim=1)\n",
    "        # Move embeddings back to CPU and convert to list\n",
    "        embeddings_list.extend(batch_embeddings.cpu().numpy().tolist())\n",
    "        if (i // batch_size) % 100 == 0:\n",
    "            print(f\"Processed {i + len(batch_texts)} / {len(texts)} lyrics\")\n",
    "    return embeddings_list"
   ]
  },
  {
   "cell_type": "code",
   "execution_count": 20,
   "metadata": {
    "execution": {
     "iopub.execute_input": "2025-03-12T14:26:30.401839Z",
     "iopub.status.busy": "2025-03-12T14:26:30.401568Z",
     "iopub.status.idle": "2025-03-12T14:26:30.410205Z",
     "shell.execute_reply": "2025-03-12T14:26:30.409422Z",
     "shell.execute_reply.started": "2025-03-12T14:26:30.401811Z"
    },
    "trusted": true
   },
   "outputs": [],
   "source": [
    "# # Compute embeddings and store as list of floats\n",
    "# df['embedding'] = df['lyrics'].apply(compute_embedding)\n",
    "\n",
    "# # Save the DataFrame as a Parquet file\n",
    "# df.to_parquet('song_embeddings.parquet', engine='pyarrow')\n",
    "\n",
    "# print(\"Embeddings and metadata saved as a Parquet file.\")"
   ]
  },
  {
   "cell_type": "code",
   "execution_count": null,
   "metadata": {
    "execution": {
     "execution_failed": "2025-03-12T17:01:10.313Z",
     "iopub.execute_input": "2025-03-12T14:26:30.411745Z",
     "iopub.status.busy": "2025-03-12T14:26:30.411368Z"
    },
    "trusted": true
   },
   "outputs": [
    {
     "name": "stdout",
     "output_type": "stream",
     "text": [
      "Processing rows 0 to 100000\n"
     ]
    },
    {
     "name": "stderr",
     "output_type": "stream",
     "text": [
      "/opt/conda/lib/python3.10/site-packages/torch/nn/parallel/parallel_apply.py:79: FutureWarning: `torch.cuda.amp.autocast(args...)` is deprecated. Please use `torch.amp.autocast('cuda', args...)` instead.\n",
      "  with torch.cuda.device(device), torch.cuda.stream(stream), autocast(enabled=autocast_enabled):\n"
     ]
    },
    {
     "name": "stdout",
     "output_type": "stream",
     "text": [
      "Processed 128 / 100000 lyrics\n"
     ]
    },
    {
     "name": "stderr",
     "output_type": "stream",
     "text": [
      "/opt/conda/lib/python3.10/site-packages/torch/nn/parallel/parallel_apply.py:79: FutureWarning: `torch.cuda.amp.autocast(args...)` is deprecated. Please use `torch.amp.autocast('cuda', args...)` instead.\n",
      "  with torch.cuda.device(device), torch.cuda.stream(stream), autocast(enabled=autocast_enabled):\n"
     ]
    },
    {
     "name": "stdout",
     "output_type": "stream",
     "text": [
      "Processed 12928 / 100000 lyrics\n",
      "Processed 25728 / 100000 lyrics\n",
      "Processed 38528 / 100000 lyrics\n",
      "Processed 51328 / 100000 lyrics\n",
      "Processed 64128 / 100000 lyrics\n",
      "Processed 76928 / 100000 lyrics\n",
      "Processed 89728 / 100000 lyrics\n",
      "Processing rows 100000 to 200000\n"
     ]
    },
    {
     "name": "stderr",
     "output_type": "stream",
     "text": [
      "/opt/conda/lib/python3.10/site-packages/torch/nn/parallel/parallel_apply.py:79: FutureWarning: `torch.cuda.amp.autocast(args...)` is deprecated. Please use `torch.amp.autocast('cuda', args...)` instead.\n",
      "  with torch.cuda.device(device), torch.cuda.stream(stream), autocast(enabled=autocast_enabled):\n"
     ]
    },
    {
     "name": "stdout",
     "output_type": "stream",
     "text": [
      "Processed 128 / 100000 lyrics\n",
      "Processed 12928 / 100000 lyrics\n",
      "Processed 25728 / 100000 lyrics\n",
      "Processed 38528 / 100000 lyrics\n",
      "Processed 51328 / 100000 lyrics\n",
      "Processed 64128 / 100000 lyrics\n",
      "Processed 76928 / 100000 lyrics\n",
      "Processed 89728 / 100000 lyrics\n",
      "Processing rows 200000 to 300000\n"
     ]
    },
    {
     "name": "stderr",
     "output_type": "stream",
     "text": [
      "/opt/conda/lib/python3.10/site-packages/torch/nn/parallel/parallel_apply.py:79: FutureWarning: `torch.cuda.amp.autocast(args...)` is deprecated. Please use `torch.amp.autocast('cuda', args...)` instead.\n",
      "  with torch.cuda.device(device), torch.cuda.stream(stream), autocast(enabled=autocast_enabled):\n"
     ]
    },
    {
     "name": "stdout",
     "output_type": "stream",
     "text": [
      "Processed 128 / 100000 lyrics\n",
      "Processed 12928 / 100000 lyrics\n",
      "Processed 25728 / 100000 lyrics\n",
      "Processed 38528 / 100000 lyrics\n",
      "Processed 51328 / 100000 lyrics\n",
      "Processed 64128 / 100000 lyrics\n",
      "Processed 76928 / 100000 lyrics\n",
      "Processed 89728 / 100000 lyrics\n",
      "Processing rows 300000 to 400000\n"
     ]
    },
    {
     "name": "stderr",
     "output_type": "stream",
     "text": [
      "/opt/conda/lib/python3.10/site-packages/torch/nn/parallel/parallel_apply.py:79: FutureWarning: `torch.cuda.amp.autocast(args...)` is deprecated. Please use `torch.amp.autocast('cuda', args...)` instead.\n",
      "  with torch.cuda.device(device), torch.cuda.stream(stream), autocast(enabled=autocast_enabled):\n"
     ]
    },
    {
     "name": "stdout",
     "output_type": "stream",
     "text": [
      "Processed 128 / 100000 lyrics\n",
      "Processed 12928 / 100000 lyrics\n",
      "Processed 25728 / 100000 lyrics\n",
      "Processed 38528 / 100000 lyrics\n",
      "Processed 51328 / 100000 lyrics\n",
      "Processed 64128 / 100000 lyrics\n",
      "Processed 76928 / 100000 lyrics\n",
      "Processed 89728 / 100000 lyrics\n"
     ]
    }
   ],
   "source": [
    "# To handle 3 million rows, using process in chunks.\n",
    "# Process 100,000 rows at a time and append the results to a list.\n",
    "chunk_size = 100_000  # adjust based on your available memory and GPU\n",
    "embedding_results = []\n",
    "chunks = []\n",
    "for start in range(0, len(df_clean), chunk_size):\n",
    "    end = min(start + chunk_size, len(df_clean))\n",
    "    df_chunk = df_clean.iloc[start:end].copy()\n",
    "    print(f\"Processing rows {start} to {end}\")\n",
    "    lyrics_list = df_chunk['lyrics'].tolist()\n",
    "    df_chunk['embedding'] = compute_embeddings_batch(lyrics_list, batch_size=128)\n",
    "    # Append chunk result (consider saving each chunk separately if memory is tight)\n",
    "    chunks.append(df_chunk)\n",
    "\n",
    "# Concatenate all chunks into a final DataFrame\n",
    "df_embeddings = pd.concat(chunks, ignore_index=True)\n",
    "\n",
    "# Save the DataFrame as a Parquet file.\n",
    "# Ensure embeddings are stored as lists of floats.\n",
    "df_embeddings.to_parquet('song_embeddings.parquet', engine='pyarrow')\n",
    "print(\"Embeddings and metadata saved as a Parquet file.\")"
   ]
  },
  {
   "cell_type": "markdown",
   "metadata": {},
   "source": [
    "# Final Stat:\n",
    "\n",
    "Acceleator: T4 x 2 \n",
    "\n",
    "Avg GPU 1 Usuage: 4.3 GiB\n",
    "\n",
    "Avg GPU 2 Usage : 3.6 GiB\n",
    "\n",
    "Max CPU Usage : 20 GiB\n",
    "\n",
    "Total Time Taken: 3hr\n"
   ]
  },
  {
   "cell_type": "code",
   "execution_count": null,
   "metadata": {
    "trusted": true
   },
   "outputs": [],
   "source": []
  }
 ],
 "metadata": {
  "kaggle": {
   "accelerator": "nvidiaTeslaT4",
   "dataSources": [
    {
     "datasetId": 2805070,
     "sourceId": 4840139,
     "sourceType": "datasetVersion"
    },
    {
     "datasetId": 6855205,
     "sourceId": 11010647,
     "sourceType": "datasetVersion"
    }
   ],
   "dockerImageVersionId": 30919,
   "isGpuEnabled": true,
   "isInternetEnabled": true,
   "language": "python",
   "sourceType": "notebook"
  },
  "kernelspec": {
   "display_name": "Python 3",
   "language": "python",
   "name": "python3"
  },
  "language_info": {
   "codemirror_mode": {
    "name": "ipython",
    "version": 3
   },
   "file_extension": ".py",
   "mimetype": "text/x-python",
   "name": "python",
   "nbconvert_exporter": "python",
   "pygments_lexer": "ipython3",
   "version": "3.10.12"
  }
 },
 "nbformat": 4,
 "nbformat_minor": 4
}

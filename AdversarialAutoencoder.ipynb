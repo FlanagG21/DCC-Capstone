{
 "cells": [
  {
   "cell_type": "markdown",
   "id": "9640f6ca",
   "metadata": {
    "id": "gRNvELiCAOzr",
    "papermill": {
     "duration": 0.005732,
     "end_time": "2025-03-15T15:13:20.746293",
     "exception": false,
     "start_time": "2025-03-15T15:13:20.740561",
     "status": "completed"
    },
    "tags": []
   },
   "source": [
    "# Adversarial Autoencoder\n"
   ]
  },
  {
   "cell_type": "code",
   "execution_count": 1,
   "id": "e65c4b93",
   "metadata": {
    "execution": {
     "iopub.execute_input": "2025-03-15T15:13:20.757397Z",
     "iopub.status.busy": "2025-03-15T15:13:20.757076Z",
     "iopub.status.idle": "2025-03-15T15:13:25.901736Z",
     "shell.execute_reply": "2025-03-15T15:13:25.900979Z"
    },
    "id": "2DrR1zNCAMWb",
    "papermill": {
     "duration": 5.151867,
     "end_time": "2025-03-15T15:13:25.903259",
     "exception": false,
     "start_time": "2025-03-15T15:13:20.751392",
     "status": "completed"
    },
    "tags": []
   },
   "outputs": [],
   "source": [
    "import torch\n",
    "import torch.nn as nn\n",
    "import torch.optim as optim\n",
    "import torch.nn.functional as F\n",
    "from torch.utils.data import DataLoader, TensorDataset, random_split\n",
    "import pandas as pd\n",
    "import numpy as np\n",
    "import os\n",
    "import matplotlib.pyplot as plt\n",
    "from sklearn.metrics import mean_squared_error"
   ]
  },
  {
   "cell_type": "code",
   "execution_count": 2,
   "id": "8d9fb35a",
   "metadata": {
    "execution": {
     "iopub.execute_input": "2025-03-15T15:13:25.914302Z",
     "iopub.status.busy": "2025-03-15T15:13:25.913916Z",
     "iopub.status.idle": "2025-03-15T15:13:25.923298Z",
     "shell.execute_reply": "2025-03-15T15:13:25.922362Z"
    },
    "id": "gU6gnVdXDIEz",
    "outputId": "feb161c1-77f9-4acb-98f4-f88fcb0ab486",
    "papermill": {
     "duration": 0.016208,
     "end_time": "2025-03-15T15:13:25.924687",
     "exception": false,
     "start_time": "2025-03-15T15:13:25.908479",
     "status": "completed"
    },
    "tags": []
   },
   "outputs": [
    {
     "data": {
      "text/plain": [
       "<torch._C.Generator at 0x7c1436ecead0>"
      ]
     },
     "execution_count": 2,
     "metadata": {},
     "output_type": "execute_result"
    }
   ],
   "source": [
    "# random seed for reproducibility\n",
    "torch.manual_seed(42)"
   ]
  },
  {
   "cell_type": "markdown",
   "id": "4e3030bd",
   "metadata": {
    "papermill": {
     "duration": 0.004742,
     "end_time": "2025-03-15T15:13:25.934468",
     "exception": false,
     "start_time": "2025-03-15T15:13:25.929726",
     "status": "completed"
    },
    "tags": []
   },
   "source": [
    "# Model Implementation"
   ]
  },
  {
   "cell_type": "code",
   "execution_count": 3,
   "id": "447273c3",
   "metadata": {
    "execution": {
     "iopub.execute_input": "2025-03-15T15:13:25.945210Z",
     "iopub.status.busy": "2025-03-15T15:13:25.944913Z",
     "iopub.status.idle": "2025-03-15T15:13:25.951254Z",
     "shell.execute_reply": "2025-03-15T15:13:25.950435Z"
    },
    "id": "r3xaCbxsDNF5",
    "papermill": {
     "duration": 0.013184,
     "end_time": "2025-03-15T15:13:25.952445",
     "exception": false,
     "start_time": "2025-03-15T15:13:25.939261",
     "status": "completed"
    },
    "tags": []
   },
   "outputs": [],
   "source": [
    "# Encoder network\n",
    "class Encoder(nn.Module):\n",
    "    def __init__(self, input_dim=768, latent_dim=256):\n",
    "        super(Encoder, self).__init__()\n",
    "        self.fc1 = nn.Linear(input_dim, 512)\n",
    "        self.bn1 = nn.BatchNorm1d(512)\n",
    "\n",
    "        self.fc2 = nn.Linear(512, 384)\n",
    "        self.bn2 = nn.BatchNorm1d(384)\n",
    "\n",
    "        self.fc3 = nn.Linear(384, latent_dim)\n",
    "\n",
    "    def forward(self, x):\n",
    "        h = F.leaky_relu(self.bn1(self.fc1(x)), 0.2)\n",
    "        h = F.leaky_relu(self.bn2(self.fc2(h)), 0.2)\n",
    "        latent = self.fc3(h)\n",
    "        return latent"
   ]
  },
  {
   "cell_type": "code",
   "execution_count": 4,
   "id": "8aef0560",
   "metadata": {
    "execution": {
     "iopub.execute_input": "2025-03-15T15:13:25.962713Z",
     "iopub.status.busy": "2025-03-15T15:13:25.962445Z",
     "iopub.status.idle": "2025-03-15T15:13:25.967210Z",
     "shell.execute_reply": "2025-03-15T15:13:25.966390Z"
    },
    "id": "-qOA_NnPDP7I",
    "papermill": {
     "duration": 0.011175,
     "end_time": "2025-03-15T15:13:25.968404",
     "exception": false,
     "start_time": "2025-03-15T15:13:25.957229",
     "status": "completed"
    },
    "tags": []
   },
   "outputs": [],
   "source": [
    "# Decoder network\n",
    "class Decoder(nn.Module):\n",
    "    def __init__(self, latent_dim=256, output_dim=768):\n",
    "        super(Decoder, self).__init__()\n",
    "        self.fc1 = nn.Linear(latent_dim, 384)\n",
    "        self.bn1 = nn.BatchNorm1d(384)\n",
    "\n",
    "        self.fc2 = nn.Linear(384, 512)\n",
    "        self.bn2 = nn.BatchNorm1d(512)\n",
    "\n",
    "        self.fc3 = nn.Linear(512, output_dim)\n",
    "\n",
    "    def forward(self, z):\n",
    "        h = F.leaky_relu(self.bn1(self.fc1(z)), 0.2)\n",
    "        h = F.leaky_relu(self.bn2(self.fc2(h)), 0.2)\n",
    "        reconstructed = torch.sigmoid(self.fc3(h))\n",
    "        return reconstructed"
   ]
  },
  {
   "cell_type": "code",
   "execution_count": 5,
   "id": "f0e669cb",
   "metadata": {
    "execution": {
     "iopub.execute_input": "2025-03-15T15:13:25.978725Z",
     "iopub.status.busy": "2025-03-15T15:13:25.978477Z",
     "iopub.status.idle": "2025-03-15T15:13:25.983366Z",
     "shell.execute_reply": "2025-03-15T15:13:25.982577Z"
    },
    "id": "ocgdbGtsDaty",
    "papermill": {
     "duration": 0.011512,
     "end_time": "2025-03-15T15:13:25.984669",
     "exception": false,
     "start_time": "2025-03-15T15:13:25.973157",
     "status": "completed"
    },
    "tags": []
   },
   "outputs": [],
   "source": [
    "class Discriminator(nn.Module):\n",
    "    def __init__(self, latent_dim=256):\n",
    "        super(Discriminator, self).__init__()\n",
    "        self.fc1 = nn.Linear(latent_dim, 256)\n",
    "        self.bn1 = nn.BatchNorm1d(256)\n",
    "\n",
    "        self.fc2 = nn.Linear(256, 128)\n",
    "        self.bn2 = nn.BatchNorm1d(128)\n",
    "\n",
    "        self.fc3 = nn.Linear(128, 1)\n",
    "\n",
    "    def forward(self, z):\n",
    "        h = F.leaky_relu(self.bn1(self.fc1(z)), 0.2)\n",
    "        h = F.leaky_relu(self.bn2(self.fc2(h)), 0.2)\n",
    "        logits = self.fc3(h)\n",
    "        return logits"
   ]
  },
  {
   "cell_type": "code",
   "execution_count": 6,
   "id": "4a20911f",
   "metadata": {
    "execution": {
     "iopub.execute_input": "2025-03-15T15:13:25.995169Z",
     "iopub.status.busy": "2025-03-15T15:13:25.994935Z",
     "iopub.status.idle": "2025-03-15T15:13:26.056215Z",
     "shell.execute_reply": "2025-03-15T15:13:26.055424Z"
    },
    "id": "5T_tpplCDjgP",
    "papermill": {
     "duration": 0.067952,
     "end_time": "2025-03-15T15:13:26.057509",
     "exception": false,
     "start_time": "2025-03-15T15:13:25.989557",
     "status": "completed"
    },
    "tags": []
   },
   "outputs": [],
   "source": [
    "# Define the full Adversarial Autoencoder\n",
    "class AdversarialAutoencoder:\n",
    "    def __init__(self, input_dim=768, latent_dim=256, device='cuda' if torch.cuda.is_available() else 'cpu'):\n",
    "        self.input_dim = input_dim\n",
    "        self.latent_dim = latent_dim\n",
    "        self.device = device\n",
    "\n",
    "        # Initialize networks\n",
    "        self.encoder = Encoder(input_dim, latent_dim).to(device)\n",
    "        self.decoder = Decoder(latent_dim, input_dim).to(device)\n",
    "        self.discriminator = Discriminator(latent_dim).to(device)\n",
    "\n",
    "        # Initialize optimizers\n",
    "        self.encoder_optimizer = optim.Adam(self.encoder.parameters(), lr=0.001)\n",
    "        self.decoder_optimizer = optim.Adam(self.decoder.parameters(), lr=0.001)\n",
    "        self.discriminator_optimizer = optim.Adam(self.discriminator.parameters(), lr=0.0001)\n",
    "\n",
    "        # Loss functions\n",
    "        self.reconstruction_loss = nn.MSELoss()\n",
    "        self.adversarial_loss = nn.BCEWithLogitsLoss()\n",
    "\n",
    "    def train_step(self, x_batch):\n",
    "        batch_size = x_batch.size(0)\n",
    "        x_batch = x_batch.to(self.device)\n",
    "\n",
    "        # Target tensors\n",
    "        real_target = torch.ones(batch_size, 1).to(self.device)\n",
    "        fake_target = torch.zeros(batch_size, 1).to(self.device)\n",
    "\n",
    "        # Train Autoencoder\n",
    "        self.encoder_optimizer.zero_grad()\n",
    "        self.decoder_optimizer.zero_grad()\n",
    "\n",
    "        # Encode and decode the input\n",
    "        z = self.encoder(x_batch)\n",
    "        x_reconstructed = self.decoder(z)\n",
    "\n",
    "        # Compute reconstruction loss\n",
    "        recon_loss = self.reconstruction_loss(x_reconstructed, x_batch)\n",
    "\n",
    "        # Compute adversarial loss for the generator (encoder)\n",
    "        gen_loss = self.adversarial_loss(self.discriminator(z), real_target)\n",
    "\n",
    "        # Total autoencoder loss\n",
    "        ae_loss = recon_loss + gen_loss\n",
    "\n",
    "        # Backpropagate and update parameters\n",
    "        ae_loss.backward()\n",
    "        self.encoder_optimizer.step()\n",
    "        self.decoder_optimizer.step()\n",
    "\n",
    "        # Train Discriminator\n",
    "        self.discriminator_optimizer.zero_grad()\n",
    "\n",
    "        # Generate latent vectors from the prior distribution (Gaussian in this case)\n",
    "        z_prior = torch.randn(batch_size, self.latent_dim).to(self.device)\n",
    "\n",
    "        # Get encoded samples\n",
    "        z_encoded = self.encoder(x_batch).detach()  # Detach to avoid training the encoder again\n",
    "\n",
    "        # Compute discriminator loss\n",
    "        real_loss = self.adversarial_loss(self.discriminator(z_prior), real_target)\n",
    "        fake_loss = self.adversarial_loss(self.discriminator(z_encoded), fake_target)\n",
    "        d_loss = (real_loss + fake_loss) / 2\n",
    "\n",
    "        # Backpropagate and update parameters\n",
    "        d_loss.backward()\n",
    "        self.discriminator_optimizer.step()\n",
    "\n",
    "        return {\n",
    "            'reconstruction_loss': recon_loss.item(),\n",
    "            'generator_loss': gen_loss.item(),\n",
    "            'discriminator_loss': d_loss.item()\n",
    "        }\n",
    "\n",
    "    def train(self, data_loader, epochs=100):\n",
    "        self.encoder.train()\n",
    "        self.decoder.train()\n",
    "        self.discriminator.train()\n",
    "\n",
    "        training_history = []\n",
    "\n",
    "        for epoch in range(epochs):\n",
    "            epoch_losses = {'reconstruction_loss': 0, 'generator_loss': 0, 'discriminator_loss': 0}\n",
    "            batch_count = 0\n",
    "\n",
    "            for batch_idx, (x_batch, _) in enumerate(data_loader):\n",
    "                step_losses = self.train_step(x_batch)\n",
    "\n",
    "                for key in epoch_losses:\n",
    "                    epoch_losses[key] += step_losses[key]\n",
    "                batch_count += 1\n",
    "\n",
    "            # Calculate average losses for the epoch\n",
    "            for key in epoch_losses:\n",
    "                epoch_losses[key] /= batch_count\n",
    "\n",
    "            training_history.append(epoch_losses)\n",
    "\n",
    "            print(f\"Epoch [{epoch+1}/{epochs}] - \"\n",
    "                  f\"Recon Loss: {epoch_losses['reconstruction_loss']:.4f}, \"\n",
    "                  f\"Gen Loss: {epoch_losses['generator_loss']:.4f}, \"\n",
    "                  f\"Disc Loss: {epoch_losses['discriminator_loss']:.4f}\")\n",
    "\n",
    "        return training_history\n",
    "\n",
    "    def encode(self, x):\n",
    "        self.encoder.eval()\n",
    "        with torch.no_grad():\n",
    "            x = x.to(self.device)\n",
    "            z = self.encoder(x)\n",
    "        return z\n",
    "\n",
    "    def decode(self, z):\n",
    "        self.decoder.eval()\n",
    "        with torch.no_grad():\n",
    "            z = z.to(self.device)\n",
    "            x_reconstructed = self.decoder(z)\n",
    "        return x_reconstructed\n",
    "\n",
    "    def reconstruct(self, x):\n",
    "        self.encoder.eval()\n",
    "        self.decoder.eval()\n",
    "        with torch.no_grad():\n",
    "            x = x.to(self.device)\n",
    "            z = self.encoder(x)\n",
    "            x_reconstructed = self.decoder(z)\n",
    "        return x_reconstructed\n",
    "\n",
    "    def save_model(self, path):\n",
    "        torch.save({\n",
    "            'encoder_state_dict': self.encoder.state_dict(),\n",
    "            'decoder_state_dict': self.decoder.state_dict(),\n",
    "            'discriminator_state_dict': self.discriminator.state_dict()\n",
    "        }, path)\n",
    "\n",
    "    def load_model(self, path):\n",
    "        checkpoint = torch.load(path,  weights_only=True)\n",
    "        self.encoder.load_state_dict(checkpoint['encoder_state_dict'])\n",
    "        self.decoder.load_state_dict(checkpoint['decoder_state_dict'])\n",
    "        self.discriminator.load_state_dict(checkpoint['discriminator_state_dict'])\n"
   ]
  },
  {
   "cell_type": "markdown",
   "id": "3f601733",
   "metadata": {
    "papermill": {
     "duration": 0.004782,
     "end_time": "2025-03-15T15:13:26.067765",
     "exception": false,
     "start_time": "2025-03-15T15:13:26.062983",
     "status": "completed"
    },
    "tags": []
   },
   "source": [
    "# Utlity Functions"
   ]
  },
  {
   "cell_type": "code",
   "execution_count": 7,
   "id": "75d847ea",
   "metadata": {
    "execution": {
     "iopub.execute_input": "2025-03-15T15:13:26.078463Z",
     "iopub.status.busy": "2025-03-15T15:13:26.078187Z",
     "iopub.status.idle": "2025-03-15T15:13:26.083109Z",
     "shell.execute_reply": "2025-03-15T15:13:26.082382Z"
    },
    "papermill": {
     "duration": 0.011835,
     "end_time": "2025-03-15T15:13:26.084389",
     "exception": false,
     "start_time": "2025-03-15T15:13:26.072554",
     "status": "completed"
    },
    "tags": []
   },
   "outputs": [],
   "source": [
    "def split_data(combined_embeddings, combined_labels, train_ratio=0.9):\n",
    "    # Calculate the number of samples for each set\n",
    "    n_samples = combined_embeddings.shape[0]\n",
    "    train_size = int(train_ratio * n_samples)\n",
    "    test_size = n_samples - train_size\n",
    "    \n",
    "    # Create the full dataset\n",
    "    full_dataset = TensorDataset(combined_embeddings, combined_labels)\n",
    "    \n",
    "    # Split the dataset\n",
    "    train_dataset, test_dataset = random_split(\n",
    "        full_dataset, \n",
    "        [train_size, test_size],\n",
    "        generator=torch.Generator().manual_seed(42)  # For reproducibility\n",
    "    )\n",
    "    \n",
    "    # Create data loaders\n",
    "    train_loader = DataLoader(train_dataset, batch_size=64, shuffle=True)\n",
    "    test_loader = DataLoader(test_dataset, batch_size=64, shuffle=False)\n",
    "    \n",
    "    print(f\"Train set: {train_size} samples\")\n",
    "    print(f\"Test set: {test_size} samples\")\n",
    "    \n",
    "    return train_loader, test_loader"
   ]
  },
  {
   "cell_type": "code",
   "execution_count": 8,
   "id": "53f480de",
   "metadata": {
    "execution": {
     "iopub.execute_input": "2025-03-15T15:13:26.095001Z",
     "iopub.status.busy": "2025-03-15T15:13:26.094732Z",
     "iopub.status.idle": "2025-03-15T15:13:26.100875Z",
     "shell.execute_reply": "2025-03-15T15:13:26.100248Z"
    },
    "papermill": {
     "duration": 0.012915,
     "end_time": "2025-03-15T15:13:26.102150",
     "exception": false,
     "start_time": "2025-03-15T15:13:26.089235",
     "status": "completed"
    },
    "tags": []
   },
   "outputs": [],
   "source": [
    "def train_with_validation(model, train_loader, test_loader, epochs=100, save_dir='./models'):\n",
    "    os.makedirs(save_dir, exist_ok=True)\n",
    "    \n",
    "    model.encoder.train()\n",
    "    model.decoder.train()\n",
    "    model.discriminator.train()\n",
    "    \n",
    "    training_history = []\n",
    "    test_history = []\n",
    "    best_loss = float('inf')\n",
    "    \n",
    "    for epoch in range(epochs):\n",
    "        # Training\n",
    "        epoch_losses = {'reconstruction_loss': 0, 'generator_loss': 0, 'discriminator_loss': 0}\n",
    "        batch_count = 0\n",
    "        \n",
    "        for batch_idx, (x_batch, _) in enumerate(train_loader):\n",
    "            step_losses = model.train_step(x_batch)\n",
    "            \n",
    "            for key in epoch_losses:\n",
    "                epoch_losses[key] += step_losses[key]\n",
    "            batch_count += 1\n",
    "        \n",
    "        # Calculate average losses for the epoch\n",
    "        for key in epoch_losses:\n",
    "            epoch_losses[key] /= batch_count\n",
    "        \n",
    "        training_history.append(epoch_losses)\n",
    "        \n",
    "        # Evaluation on test set\n",
    "        test_loss = evaluate_model(model, test_loader)\n",
    "        test_history.append(test_loss)\n",
    "        \n",
    "        print(f\"Epoch [{epoch+1}/{epochs}] - \"\n",
    "              f\"Train Recon Loss: {epoch_losses['reconstruction_loss']:.4f}, \"\n",
    "              f\"Gen Loss: {epoch_losses['generator_loss']:.4f}, \"\n",
    "              f\"Disc Loss: {epoch_losses['discriminator_loss']:.4f}, \"\n",
    "              f\"Test Recon Loss: {test_loss['reconstruction_loss']:.4f}\")\n",
    "        \n",
    "        # Save the best model\n",
    "        if test_loss['reconstruction_loss'] < best_loss:\n",
    "            best_loss = test_loss['reconstruction_loss']\n",
    "            model.save_model(os.path.join(save_dir, 'best_aae_model.pt'))\n",
    "            print(f\"Model saved with validation loss: {best_loss:.4f}\")\n",
    "        \n",
    "        # Save checkpoint every 10 epochs\n",
    "        if (epoch + 1) % 10 == 0:\n",
    "            model.save_model(os.path.join(save_dir, f'aae_model_epoch_{epoch+1}.pt'))\n",
    "    \n",
    "    # Save the final model\n",
    "    model.save_model(os.path.join(save_dir, 'final_aae_model.pt'))\n",
    "    \n",
    "    return training_history, test_history"
   ]
  },
  {
   "cell_type": "code",
   "execution_count": 9,
   "id": "e16ad835",
   "metadata": {
    "execution": {
     "iopub.execute_input": "2025-03-15T15:13:26.112673Z",
     "iopub.status.busy": "2025-03-15T15:13:26.112439Z",
     "iopub.status.idle": "2025-03-15T15:13:26.117025Z",
     "shell.execute_reply": "2025-03-15T15:13:26.116207Z"
    },
    "papermill": {
     "duration": 0.011222,
     "end_time": "2025-03-15T15:13:26.118253",
     "exception": false,
     "start_time": "2025-03-15T15:13:26.107031",
     "status": "completed"
    },
    "tags": []
   },
   "outputs": [],
   "source": [
    "def evaluate_model(model, test_loader):\n",
    "    model.encoder.eval()\n",
    "    model.decoder.eval()\n",
    "    \n",
    "    total_recon_loss = 0\n",
    "    total_samples = 0\n",
    "    \n",
    "    with torch.no_grad():\n",
    "        for x_batch, _ in test_loader:\n",
    "            x_batch = x_batch.to(model.device)\n",
    "            reconstructed = model.reconstruct(x_batch)\n",
    "            \n",
    "            # Calculate reconstruction loss\n",
    "            loss = model.reconstruction_loss(reconstructed, x_batch)\n",
    "            \n",
    "            total_recon_loss += loss.item() * x_batch.size(0)\n",
    "            total_samples += x_batch.size(0)\n",
    "    \n",
    "    avg_recon_loss = total_recon_loss / total_samples\n",
    "    return {\n",
    "        'reconstruction_loss': avg_recon_loss\n",
    "    }"
   ]
  },
  {
   "cell_type": "code",
   "execution_count": 10,
   "id": "21dd1ce1",
   "metadata": {
    "execution": {
     "iopub.execute_input": "2025-03-15T15:13:26.128736Z",
     "iopub.status.busy": "2025-03-15T15:13:26.128519Z",
     "iopub.status.idle": "2025-03-15T15:13:26.133537Z",
     "shell.execute_reply": "2025-03-15T15:13:26.132956Z"
    },
    "papermill": {
     "duration": 0.011541,
     "end_time": "2025-03-15T15:13:26.134615",
     "exception": false,
     "start_time": "2025-03-15T15:13:26.123074",
     "status": "completed"
    },
    "tags": []
   },
   "outputs": [],
   "source": [
    "def plot_training_history(training_history):\n",
    "    epochs = range(1, len(training_history) + 1)\n",
    "    \n",
    "    plt.figure(figsize=(12, 8))\n",
    "    \n",
    "    # Plot reconstruction loss\n",
    "    plt.subplot(3, 1, 1)\n",
    "    plt.plot(epochs, [epoch_loss['reconstruction_loss'] for epoch_loss in training_history], 'b-')\n",
    "    plt.title('Reconstruction Loss')\n",
    "    plt.xlabel('Epochs')\n",
    "    plt.ylabel('Loss')\n",
    "    \n",
    "    # Plot generator loss\n",
    "    plt.subplot(3, 1, 2)\n",
    "    plt.plot(epochs, [epoch_loss['generator_loss'] for epoch_loss in training_history], 'g-')\n",
    "    plt.title('Generator Loss')\n",
    "    plt.xlabel('Epochs')\n",
    "    plt.ylabel('Loss')\n",
    "    \n",
    "    # Plot discriminator loss\n",
    "    plt.subplot(3, 1, 3)\n",
    "    plt.plot(epochs, [epoch_loss['discriminator_loss'] for epoch_loss in training_history], 'r-')\n",
    "    plt.title('Discriminator Loss')\n",
    "    plt.xlabel('Epochs')\n",
    "    plt.ylabel('Loss')\n",
    "    \n",
    "    plt.tight_layout()\n",
    "    plt.savefig('aae_training_history.png')\n",
    "    plt.show()\n"
   ]
  },
  {
   "cell_type": "code",
   "execution_count": 11,
   "id": "39d817f3",
   "metadata": {
    "execution": {
     "iopub.execute_input": "2025-03-15T15:13:26.144936Z",
     "iopub.status.busy": "2025-03-15T15:13:26.144669Z",
     "iopub.status.idle": "2025-03-15T15:13:26.149183Z",
     "shell.execute_reply": "2025-03-15T15:13:26.148508Z"
    },
    "papermill": {
     "duration": 0.010996,
     "end_time": "2025-03-15T15:13:26.150345",
     "exception": false,
     "start_time": "2025-03-15T15:13:26.139349",
     "status": "completed"
    },
    "tags": []
   },
   "outputs": [],
   "source": [
    "def plot_train_vs_test_loss(training_history, test_history):\n",
    "    epochs = range(1, len(training_history) + 1)\n",
    "    \n",
    "    plt.figure(figsize=(10, 6))\n",
    "    plt.plot(epochs, [epoch_loss['reconstruction_loss'] for epoch_loss in training_history], 'b-', label='Training Loss')\n",
    "    plt.plot(epochs, [epoch_loss['reconstruction_loss'] for epoch_loss in test_history], 'r-', label='Validation Loss')\n",
    "    plt.title('Training vs Validation Reconstruction Loss')\n",
    "    plt.xlabel('Epochs')\n",
    "    plt.ylabel('Loss')\n",
    "    plt.legend()\n",
    "    plt.grid(True)\n",
    "    plt.savefig('train_vs_test_loss.png')\n",
    "    plt.show()"
   ]
  },
  {
   "cell_type": "code",
   "execution_count": 12,
   "id": "9575b326",
   "metadata": {
    "execution": {
     "iopub.execute_input": "2025-03-15T15:13:26.160683Z",
     "iopub.status.busy": "2025-03-15T15:13:26.160431Z",
     "iopub.status.idle": "2025-03-15T15:13:26.163524Z",
     "shell.execute_reply": "2025-03-15T15:13:26.162908Z"
    },
    "papermill": {
     "duration": 0.009468,
     "end_time": "2025-03-15T15:13:26.164616",
     "exception": false,
     "start_time": "2025-03-15T15:13:26.155148",
     "status": "completed"
    },
    "tags": []
   },
   "outputs": [],
   "source": [
    "root = \"/kaggle/input/recommendation-embeddings-inputs\""
   ]
  },
  {
   "cell_type": "code",
   "execution_count": 13,
   "id": "cb88b25b",
   "metadata": {
    "execution": {
     "iopub.execute_input": "2025-03-15T15:13:26.174932Z",
     "iopub.status.busy": "2025-03-15T15:13:26.174681Z",
     "iopub.status.idle": "2025-03-15T15:14:51.241899Z",
     "shell.execute_reply": "2025-03-15T15:14:51.241107Z"
    },
    "id": "PXhrcdVB0JaV",
    "papermill": {
     "duration": 85.07419,
     "end_time": "2025-03-15T15:14:51.243525",
     "exception": false,
     "start_time": "2025-03-15T15:13:26.169335",
     "status": "completed"
    },
    "tags": []
   },
   "outputs": [],
   "source": [
    "movies_df = pd.read_parquet(os.path.join(root, 'movies_embeddings.parquet'), engine='pyarrow')\n",
    "songs_df = pd.read_parquet(os.path.join(root, 'song_embeddings.parquet'), engine='pyarrow')\n"
   ]
  },
  {
   "cell_type": "code",
   "execution_count": 14,
   "id": "69eb801e",
   "metadata": {
    "execution": {
     "iopub.execute_input": "2025-03-15T15:14:51.255044Z",
     "iopub.status.busy": "2025-03-15T15:14:51.254767Z",
     "iopub.status.idle": "2025-03-15T15:14:51.282533Z",
     "shell.execute_reply": "2025-03-15T15:14:51.281760Z"
    },
    "id": "dcsP1dpu0MrF",
    "papermill": {
     "duration": 0.03456,
     "end_time": "2025-03-15T15:14:51.283904",
     "exception": false,
     "start_time": "2025-03-15T15:14:51.249344",
     "status": "completed"
    },
    "tags": []
   },
   "outputs": [
    {
     "data": {
      "text/html": [
       "<div>\n",
       "<style scoped>\n",
       "    .dataframe tbody tr th:only-of-type {\n",
       "        vertical-align: middle;\n",
       "    }\n",
       "\n",
       "    .dataframe tbody tr th {\n",
       "        vertical-align: top;\n",
       "    }\n",
       "\n",
       "    .dataframe thead th {\n",
       "        text-align: right;\n",
       "    }\n",
       "</style>\n",
       "<table border=\"1\" class=\"dataframe\">\n",
       "  <thead>\n",
       "    <tr style=\"text-align: right;\">\n",
       "      <th></th>\n",
       "      <th>id</th>\n",
       "      <th>title</th>\n",
       "      <th>overview</th>\n",
       "      <th>genres</th>\n",
       "      <th>embedding</th>\n",
       "    </tr>\n",
       "  </thead>\n",
       "  <tbody>\n",
       "    <tr>\n",
       "      <th>0</th>\n",
       "      <td>27205</td>\n",
       "      <td>Inception</td>\n",
       "      <td>Cobb a skilled thief who commits corporate esp...</td>\n",
       "      <td>Action, Science Fiction, Adventure</td>\n",
       "      <td>[0.01589059643447399, 0.11273891478776932, -0....</td>\n",
       "    </tr>\n",
       "    <tr>\n",
       "      <th>1</th>\n",
       "      <td>157336</td>\n",
       "      <td>Interstellar</td>\n",
       "      <td>The adventures of a group of explorers who mak...</td>\n",
       "      <td>Adventure, Drama, Science Fiction</td>\n",
       "      <td>[0.037922028452157974, -0.005655079614371061, ...</td>\n",
       "    </tr>\n",
       "    <tr>\n",
       "      <th>2</th>\n",
       "      <td>155</td>\n",
       "      <td>The Dark Knight</td>\n",
       "      <td>Batman raises the stakes in his war on crime W...</td>\n",
       "      <td>Drama, Action, Crime, Thriller</td>\n",
       "      <td>[0.011266704648733139, 0.032755907624959946, -...</td>\n",
       "    </tr>\n",
       "    <tr>\n",
       "      <th>3</th>\n",
       "      <td>19995</td>\n",
       "      <td>Avatar</td>\n",
       "      <td>In the 22nd century a paraplegic Marine is dis...</td>\n",
       "      <td>Action, Adventure, Fantasy, Science Fiction</td>\n",
       "      <td>[0.01744804158806801, 0.03436880186200142, 0.0...</td>\n",
       "    </tr>\n",
       "    <tr>\n",
       "      <th>4</th>\n",
       "      <td>24428</td>\n",
       "      <td>The Avengers</td>\n",
       "      <td>When an unexpected enemy emerges and threatens...</td>\n",
       "      <td>Science Fiction, Action, Adventure</td>\n",
       "      <td>[0.027801260352134705, -0.019952325150370598, ...</td>\n",
       "    </tr>\n",
       "  </tbody>\n",
       "</table>\n",
       "</div>"
      ],
      "text/plain": [
       "       id            title                                           overview  \\\n",
       "0   27205        Inception  Cobb a skilled thief who commits corporate esp...   \n",
       "1  157336     Interstellar  The adventures of a group of explorers who mak...   \n",
       "2     155  The Dark Knight  Batman raises the stakes in his war on crime W...   \n",
       "3   19995           Avatar  In the 22nd century a paraplegic Marine is dis...   \n",
       "4   24428     The Avengers  When an unexpected enemy emerges and threatens...   \n",
       "\n",
       "                                        genres  \\\n",
       "0           Action, Science Fiction, Adventure   \n",
       "1            Adventure, Drama, Science Fiction   \n",
       "2               Drama, Action, Crime, Thriller   \n",
       "3  Action, Adventure, Fantasy, Science Fiction   \n",
       "4           Science Fiction, Action, Adventure   \n",
       "\n",
       "                                           embedding  \n",
       "0  [0.01589059643447399, 0.11273891478776932, -0....  \n",
       "1  [0.037922028452157974, -0.005655079614371061, ...  \n",
       "2  [0.011266704648733139, 0.032755907624959946, -...  \n",
       "3  [0.01744804158806801, 0.03436880186200142, 0.0...  \n",
       "4  [0.027801260352134705, -0.019952325150370598, ...  "
      ]
     },
     "execution_count": 14,
     "metadata": {},
     "output_type": "execute_result"
    }
   ],
   "source": [
    "movies_df.head()"
   ]
  },
  {
   "cell_type": "code",
   "execution_count": 15,
   "id": "dcea1cb4",
   "metadata": {
    "execution": {
     "iopub.execute_input": "2025-03-15T15:14:51.294847Z",
     "iopub.status.busy": "2025-03-15T15:14:51.294614Z",
     "iopub.status.idle": "2025-03-15T15:14:51.305920Z",
     "shell.execute_reply": "2025-03-15T15:14:51.305306Z"
    },
    "id": "GIGtX8Yw0Ojq",
    "papermill": {
     "duration": 0.018087,
     "end_time": "2025-03-15T15:14:51.307151",
     "exception": false,
     "start_time": "2025-03-15T15:14:51.289064",
     "status": "completed"
    },
    "tags": []
   },
   "outputs": [
    {
     "data": {
      "text/html": [
       "<div>\n",
       "<style scoped>\n",
       "    .dataframe tbody tr th:only-of-type {\n",
       "        vertical-align: middle;\n",
       "    }\n",
       "\n",
       "    .dataframe tbody tr th {\n",
       "        vertical-align: top;\n",
       "    }\n",
       "\n",
       "    .dataframe thead th {\n",
       "        text-align: right;\n",
       "    }\n",
       "</style>\n",
       "<table border=\"1\" class=\"dataframe\">\n",
       "  <thead>\n",
       "    <tr style=\"text-align: right;\">\n",
       "      <th></th>\n",
       "      <th>title</th>\n",
       "      <th>tag</th>\n",
       "      <th>lyrics</th>\n",
       "      <th>embedding</th>\n",
       "    </tr>\n",
       "  </thead>\n",
       "  <tbody>\n",
       "    <tr>\n",
       "      <th>0</th>\n",
       "      <td>Poor Poor Pitiful Me</td>\n",
       "      <td>country</td>\n",
       "      <td>Well I lay my head on the railroad track\\nWait...</td>\n",
       "      <td>[0.029062896966934204, 0.08223594725131989, -0...</td>\n",
       "    </tr>\n",
       "    <tr>\n",
       "      <th>1</th>\n",
       "      <td>Cuckoos Nest</td>\n",
       "      <td>country</td>\n",
       "      <td>There is a thorn bush\\nIn Outcolia\\nThere is a...</td>\n",
       "      <td>[0.0009067401406355202, -0.09515126794576645, ...</td>\n",
       "    </tr>\n",
       "    <tr>\n",
       "      <th>2</th>\n",
       "      <td>Wedding Bells</td>\n",
       "      <td>country</td>\n",
       "      <td>I have the invitation that your sent me\\nYou w...</td>\n",
       "      <td>[0.04617173597216606, 0.013956493698060513, -0...</td>\n",
       "    </tr>\n",
       "    <tr>\n",
       "      <th>3</th>\n",
       "      <td>Could Have Fooled Me</td>\n",
       "      <td>country</td>\n",
       "      <td>Im fading like the taillights\\nOf a car that y...</td>\n",
       "      <td>[0.015817370265722275, -0.0025993576273322105,...</td>\n",
       "    </tr>\n",
       "    <tr>\n",
       "      <th>4</th>\n",
       "      <td>Shot of Glory</td>\n",
       "      <td>country</td>\n",
       "      <td>Its finally payday\\nMeeting the boys at my pla...</td>\n",
       "      <td>[-0.011555955745279789, 0.0511910654604435, 0....</td>\n",
       "    </tr>\n",
       "  </tbody>\n",
       "</table>\n",
       "</div>"
      ],
      "text/plain": [
       "                  title      tag  \\\n",
       "0  Poor Poor Pitiful Me  country   \n",
       "1          Cuckoos Nest  country   \n",
       "2         Wedding Bells  country   \n",
       "3  Could Have Fooled Me  country   \n",
       "4         Shot of Glory  country   \n",
       "\n",
       "                                              lyrics  \\\n",
       "0  Well I lay my head on the railroad track\\nWait...   \n",
       "1  There is a thorn bush\\nIn Outcolia\\nThere is a...   \n",
       "2  I have the invitation that your sent me\\nYou w...   \n",
       "3  Im fading like the taillights\\nOf a car that y...   \n",
       "4  Its finally payday\\nMeeting the boys at my pla...   \n",
       "\n",
       "                                           embedding  \n",
       "0  [0.029062896966934204, 0.08223594725131989, -0...  \n",
       "1  [0.0009067401406355202, -0.09515126794576645, ...  \n",
       "2  [0.04617173597216606, 0.013956493698060513, -0...  \n",
       "3  [0.015817370265722275, -0.0025993576273322105,...  \n",
       "4  [-0.011555955745279789, 0.0511910654604435, 0....  "
      ]
     },
     "execution_count": 15,
     "metadata": {},
     "output_type": "execute_result"
    }
   ],
   "source": [
    "songs_df.head()"
   ]
  },
  {
   "cell_type": "code",
   "execution_count": 16,
   "id": "15de5155",
   "metadata": {
    "execution": {
     "iopub.execute_input": "2025-03-15T15:14:51.317775Z",
     "iopub.status.busy": "2025-03-15T15:14:51.317564Z",
     "iopub.status.idle": "2025-03-15T15:14:51.359630Z",
     "shell.execute_reply": "2025-03-15T15:14:51.358965Z"
    },
    "id": "fKB-i-5W0PRx",
    "papermill": {
     "duration": 0.049119,
     "end_time": "2025-03-15T15:14:51.361198",
     "exception": false,
     "start_time": "2025-03-15T15:14:51.312079",
     "status": "completed"
    },
    "tags": []
   },
   "outputs": [],
   "source": [
    "#'label' column to movies_df with value 1\n",
    "movies_df['label'] = 1\n",
    "\n",
    "# 'label' column to songs_df with value 0\n",
    "songs_df['label'] = 0\n",
    "\n",
    "# Keep only the 'embedding' and 'label' columns\n",
    "movies_df = movies_df[['embedding', 'label']]\n",
    "songs_df = songs_df[['embedding', 'label']]\n"
   ]
  },
  {
   "cell_type": "code",
   "execution_count": 17,
   "id": "1394e79e",
   "metadata": {
    "execution": {
     "iopub.execute_input": "2025-03-15T15:14:51.372723Z",
     "iopub.status.busy": "2025-03-15T15:14:51.372446Z",
     "iopub.status.idle": "2025-03-15T15:14:55.124032Z",
     "shell.execute_reply": "2025-03-15T15:14:55.123093Z"
    },
    "id": "lSbudBTt1ui2",
    "papermill": {
     "duration": 3.758789,
     "end_time": "2025-03-15T15:14:55.125502",
     "exception": false,
     "start_time": "2025-03-15T15:14:51.366713",
     "status": "completed"
    },
    "tags": []
   },
   "outputs": [
    {
     "data": {
      "text/plain": [
       "((1130862, 768), (1130862,))"
      ]
     },
     "execution_count": 17,
     "metadata": {},
     "output_type": "execute_result"
    }
   ],
   "source": [
    "# Vertically stack (concatenate) the two DataFrames\n",
    "combined_data = pd.concat([movies_df, songs_df], axis=0, ignore_index=True)\n",
    "\n",
    "# Shuffle the combined DataFrame\n",
    "combined_data = combined_data.sample(frac=1, random_state=42).reset_index(drop=True)\n",
    "\n",
    "# Extract combined embeddings and labels\n",
    "# Assuming that the embedding column stores a list of numbers for each row.\n",
    "combined_embeddings = np.array(combined_data['embedding'].tolist())\n",
    "combined_labels = np.array(combined_data['label'].tolist())\n",
    "\n",
    "combined_embeddings.shape, combined_labels.shape"
   ]
  },
  {
   "cell_type": "code",
   "execution_count": 18,
   "id": "dc659578",
   "metadata": {
    "execution": {
     "iopub.execute_input": "2025-03-15T15:14:55.137088Z",
     "iopub.status.busy": "2025-03-15T15:14:55.136807Z",
     "iopub.status.idle": "2025-03-15T15:14:56.771360Z",
     "shell.execute_reply": "2025-03-15T15:14:56.770365Z"
    },
    "id": "8DwNRXzD139q",
    "papermill": {
     "duration": 1.642074,
     "end_time": "2025-03-15T15:14:56.773187",
     "exception": false,
     "start_time": "2025-03-15T15:14:55.131113",
     "status": "completed"
    },
    "tags": []
   },
   "outputs": [],
   "source": [
    "combined_embeddings = torch.tensor(combined_embeddings, dtype=torch.float32)\n",
    "combined_labels = torch.tensor(combined_labels, dtype=torch.float32)\n",
    "\n",
    "combined_dataset = TensorDataset(combined_embeddings, combined_labels)\n",
    "combined_dataloader = DataLoader(combined_dataset, batch_size=64, shuffle=True)"
   ]
  },
  {
   "cell_type": "code",
   "execution_count": 19,
   "id": "60d3fe84",
   "metadata": {
    "execution": {
     "iopub.execute_input": "2025-03-15T15:14:56.786590Z",
     "iopub.status.busy": "2025-03-15T15:14:56.786297Z",
     "iopub.status.idle": "2025-03-15T15:14:56.885755Z",
     "shell.execute_reply": "2025-03-15T15:14:56.884760Z"
    },
    "papermill": {
     "duration": 0.106915,
     "end_time": "2025-03-15T15:14:56.887189",
     "exception": false,
     "start_time": "2025-03-15T15:14:56.780274",
     "status": "completed"
    },
    "tags": []
   },
   "outputs": [
    {
     "name": "stdout",
     "output_type": "stream",
     "text": [
      "Train set: 1017775 samples\n",
      "Test set: 113087 samples\n"
     ]
    }
   ],
   "source": [
    "train_loader, test_loader = split_data(combined_embeddings, combined_labels)"
   ]
  },
  {
   "cell_type": "code",
   "execution_count": 20,
   "id": "41bf18c5",
   "metadata": {
    "execution": {
     "iopub.execute_input": "2025-03-15T15:14:56.898540Z",
     "iopub.status.busy": "2025-03-15T15:14:56.898311Z",
     "iopub.status.idle": "2025-03-15T15:14:56.946417Z",
     "shell.execute_reply": "2025-03-15T15:14:56.945543Z"
    },
    "papermill": {
     "duration": 0.055032,
     "end_time": "2025-03-15T15:14:56.947633",
     "exception": false,
     "start_time": "2025-03-15T15:14:56.892601",
     "status": "completed"
    },
    "tags": []
   },
   "outputs": [],
   "source": [
    "# free up memory\n",
    "del movies_df, songs_df, combined_data, combined_embeddings, combined_labels"
   ]
  },
  {
   "cell_type": "code",
   "execution_count": 21,
   "id": "bcf38849",
   "metadata": {
    "execution": {
     "iopub.execute_input": "2025-03-15T15:14:56.959092Z",
     "iopub.status.busy": "2025-03-15T15:14:56.958805Z",
     "iopub.status.idle": "2025-03-15T15:56:25.383159Z",
     "shell.execute_reply": "2025-03-15T15:56:25.382204Z"
    },
    "papermill": {
     "duration": 2488.436972,
     "end_time": "2025-03-15T15:56:25.390099",
     "exception": false,
     "start_time": "2025-03-15T15:14:56.953127",
     "status": "completed"
    },
    "tags": []
   },
   "outputs": [
    {
     "name": "stdout",
     "output_type": "stream",
     "text": [
      "Epoch [1/20] - Train Recon Loss: 0.0012, Gen Loss: 0.6911, Disc Loss: 0.6951, Test Recon Loss: 0.0010\n",
      "Model saved with validation loss: 0.0010\n",
      "Epoch [2/20] - Train Recon Loss: 0.0010, Gen Loss: 0.6933, Disc Loss: 0.6932, Test Recon Loss: 0.0010\n",
      "Model saved with validation loss: 0.0010\n",
      "Epoch [3/20] - Train Recon Loss: 0.0009, Gen Loss: 0.6933, Disc Loss: 0.6932, Test Recon Loss: 0.0009\n",
      "Model saved with validation loss: 0.0009\n",
      "Epoch [4/20] - Train Recon Loss: 0.0009, Gen Loss: 0.6932, Disc Loss: 0.6932, Test Recon Loss: 0.0009\n",
      "Model saved with validation loss: 0.0009\n",
      "Epoch [5/20] - Train Recon Loss: 0.0009, Gen Loss: 0.6932, Disc Loss: 0.6932, Test Recon Loss: 0.0009\n",
      "Model saved with validation loss: 0.0009\n",
      "Epoch [6/20] - Train Recon Loss: 0.0009, Gen Loss: 0.6933, Disc Loss: 0.6932, Test Recon Loss: 0.0009\n",
      "Model saved with validation loss: 0.0009\n",
      "Epoch [7/20] - Train Recon Loss: 0.0009, Gen Loss: 0.6933, Disc Loss: 0.6931, Test Recon Loss: 0.0009\n",
      "Model saved with validation loss: 0.0009\n",
      "Epoch [8/20] - Train Recon Loss: 0.0009, Gen Loss: 0.6933, Disc Loss: 0.6932, Test Recon Loss: 0.0009\n",
      "Model saved with validation loss: 0.0009\n",
      "Epoch [9/20] - Train Recon Loss: 0.0009, Gen Loss: 0.6934, Disc Loss: 0.6931, Test Recon Loss: 0.0009\n",
      "Epoch [10/20] - Train Recon Loss: 0.0009, Gen Loss: 0.6933, Disc Loss: 0.6931, Test Recon Loss: 0.0009\n",
      "Model saved with validation loss: 0.0009\n",
      "Epoch [11/20] - Train Recon Loss: 0.0009, Gen Loss: 0.6934, Disc Loss: 0.6931, Test Recon Loss: 0.0009\n",
      "Epoch [12/20] - Train Recon Loss: 0.0009, Gen Loss: 0.6934, Disc Loss: 0.6931, Test Recon Loss: 0.0009\n",
      "Model saved with validation loss: 0.0009\n",
      "Epoch [13/20] - Train Recon Loss: 0.0009, Gen Loss: 0.6933, Disc Loss: 0.6931, Test Recon Loss: 0.0009\n",
      "Model saved with validation loss: 0.0009\n",
      "Epoch [14/20] - Train Recon Loss: 0.0009, Gen Loss: 0.6934, Disc Loss: 0.6931, Test Recon Loss: 0.0009\n",
      "Model saved with validation loss: 0.0009\n",
      "Epoch [15/20] - Train Recon Loss: 0.0009, Gen Loss: 0.6934, Disc Loss: 0.6931, Test Recon Loss: 0.0009\n",
      "Model saved with validation loss: 0.0009\n",
      "Epoch [16/20] - Train Recon Loss: 0.0009, Gen Loss: 0.6935, Disc Loss: 0.6931, Test Recon Loss: 0.0009\n",
      "Epoch [17/20] - Train Recon Loss: 0.0009, Gen Loss: 0.6934, Disc Loss: 0.6931, Test Recon Loss: 0.0009\n",
      "Model saved with validation loss: 0.0009\n",
      "Epoch [18/20] - Train Recon Loss: 0.0009, Gen Loss: 0.6934, Disc Loss: 0.6931, Test Recon Loss: 0.0009\n",
      "Epoch [19/20] - Train Recon Loss: 0.0009, Gen Loss: 0.6934, Disc Loss: 0.6931, Test Recon Loss: 0.0009\n",
      "Model saved with validation loss: 0.0009\n",
      "Epoch [20/20] - Train Recon Loss: 0.0009, Gen Loss: 0.6934, Disc Loss: 0.6931, Test Recon Loss: 0.0009\n",
      "Model saved with validation loss: 0.0009\n"
     ]
    }
   ],
   "source": [
    "input_dim = 768\n",
    "latent_dim = 256\n",
    "\n",
    "# Our embedding data is normalized \n",
    "\n",
    "aae = AdversarialAutoencoder(input_dim, latent_dim)\n",
    "training_history, test_history = train_with_validation(aae, train_loader, test_loader, epochs=20)\n",
    "\n",
    "# training_history = aae.train(combined_dataloader, epochs=2)"
   ]
  },
  {
   "cell_type": "code",
   "execution_count": 22,
   "id": "d955753f",
   "metadata": {
    "execution": {
     "iopub.execute_input": "2025-03-15T15:56:25.404112Z",
     "iopub.status.busy": "2025-03-15T15:56:25.403637Z",
     "iopub.status.idle": "2025-03-15T15:56:26.638572Z",
     "shell.execute_reply": "2025-03-15T15:56:26.637690Z"
    },
    "papermill": {
     "duration": 1.243447,
     "end_time": "2025-03-15T15:56:26.640001",
     "exception": false,
     "start_time": "2025-03-15T15:56:25.396554",
     "status": "completed"
    },
    "tags": []
   },
   "outputs": [
    {
     "data": {
      "image/png": "[encoded data removed]",
      "text/plain": [
       "<Figure size 1200x800 with 3 Axes>"
      ]
     },
     "metadata": {},
     "output_type": "display_data"
    },
    {
     "data": {
      "image/png": "[encoded data removed]",
      "text/plain": [
       "<Figure size 1000x600 with 1 Axes>"
      ]
     },
     "metadata": {},
     "output_type": "display_data"
    }
   ],
   "source": [
    "# Visualize the training history\n",
    "plot_training_history(training_history)\n",
    "plot_train_vs_test_loss(training_history, test_history)"
   ]
  },
  {
   "cell_type": "code",
   "execution_count": 23,
   "id": "1be473bf",
   "metadata": {
    "execution": {
     "iopub.execute_input": "2025-03-15T15:56:26.657312Z",
     "iopub.status.busy": "2025-03-15T15:56:26.657072Z",
     "iopub.status.idle": "2025-03-15T15:56:26.694009Z",
     "shell.execute_reply": "2025-03-15T15:56:26.693134Z"
    },
    "papermill": {
     "duration": 0.04715,
     "end_time": "2025-03-15T15:56:26.695599",
     "exception": false,
     "start_time": "2025-03-15T15:56:26.648449",
     "status": "completed"
    },
    "tags": []
   },
   "outputs": [],
   "source": [
    "# Load the best model for inference\n",
    "best_model_path = './models/best_aae_model.pt'\n",
    "inference_aae = AdversarialAutoencoder(input_dim=768, latent_dim=256)\n",
    "inference_aae.load_model(best_model_path)"
   ]
  },
  {
   "cell_type": "code",
   "execution_count": 24,
   "id": "ac221cf7",
   "metadata": {
    "execution": {
     "iopub.execute_input": "2025-03-15T15:56:26.713538Z",
     "iopub.status.busy": "2025-03-15T15:56:26.713278Z",
     "iopub.status.idle": "2025-03-15T15:56:26.735224Z",
     "shell.execute_reply": "2025-03-15T15:56:26.734425Z"
    },
    "papermill": {
     "duration": 0.031903,
     "end_time": "2025-03-15T15:56:26.736441",
     "exception": false,
     "start_time": "2025-03-15T15:56:26.704538",
     "status": "completed"
    },
    "tags": []
   },
   "outputs": [
    {
     "name": "stdout",
     "output_type": "stream",
     "text": [
      "Reconstruction MSE on test samples: 0.0009\n"
     ]
    }
   ],
   "source": [
    "# Test the model on a few samples\n",
    "test_samples = next(iter(test_loader))[0][:5]\n",
    "reconstructed_samples = inference_aae.reconstruct(test_samples)\n",
    "\n",
    "# Calculate reconstruction error\n",
    "reconstruction_error = mean_squared_error(\n",
    "    test_samples.cpu().numpy().flatten(), \n",
    "    reconstructed_samples.cpu().numpy().flatten()\n",
    ")\n",
    "print(f\"Reconstruction MSE on test samples: {reconstruction_error:.4f}\")"
   ]
  },
  {
   "cell_type": "code",
   "execution_count": 25,
   "id": "b9b71571",
   "metadata": {
    "execution": {
     "iopub.execute_input": "2025-03-15T15:56:26.753535Z",
     "iopub.status.busy": "2025-03-15T15:56:26.753296Z",
     "iopub.status.idle": "2025-03-15T15:56:26.758615Z",
     "shell.execute_reply": "2025-03-15T15:56:26.757944Z"
    },
    "papermill": {
     "duration": 0.015087,
     "end_time": "2025-03-15T15:56:26.759829",
     "exception": false,
     "start_time": "2025-03-15T15:56:26.744742",
     "status": "completed"
    },
    "tags": []
   },
   "outputs": [
    {
     "name": "stdout",
     "output_type": "stream",
     "text": [
      "Generated samples shape: torch.Size([5, 768])\n"
     ]
    }
   ],
   "source": [
    "# Generate new samples from random latent vectors\n",
    "random_latent = torch.randn(5, latent_dim).to(inference_aae.device)\n",
    "generated_samples = inference_aae.decode(random_latent)\n",
    "print(\"Generated samples shape:\", generated_samples.shape)"
   ]
  },
  {
   "cell_type": "code",
   "execution_count": null,
   "id": "fe065f25",
   "metadata": {
    "papermill": {
     "duration": 0.00777,
     "end_time": "2025-03-15T15:56:26.775736",
     "exception": false,
     "start_time": "2025-03-15T15:56:26.767966",
     "status": "completed"
    },
    "tags": []
   },
   "outputs": [],
   "source": []
  }
 ],
 "metadata": {
  "colab": {
   "authorship_tag": "ABX9TyPqRlNjTRfcYSwlOh7/axCV",
   "provenance": []
  },
  "kaggle": {
   "accelerator": "gpu",
   "dataSources": [
    {
     "datasetId": 6874159,
     "sourceId": 11036461,
     "sourceType": "datasetVersion"
    }
   ],
   "dockerImageVersionId": 30919,
   "isGpuEnabled": true,
   "isInternetEnabled": true,
   "language": "python",
   "sourceType": "notebook"
  },
  "kernelspec": {
   "display_name": "Python 3",
   "language": "python",
   "name": "python3"
  },
  "language_info": {
   "codemirror_mode": {
    "name": "ipython",
    "version": 3
   },
   "file_extension": ".py",
   "mimetype": "text/x-python",
   "name": "python",
   "nbconvert_exporter": "python",
   "pygments_lexer": "ipython3",
   "version": "3.10.12"
  },
  "papermill": {
   "default_parameters": {},
   "duration": 2591.406155,
   "end_time": "2025-03-15T15:56:29.503849",
   "environment_variables": {},
   "exception": null,
   "input_path": "__notebook__.ipynb",
   "output_path": "__notebook__.ipynb",
   "parameters": {},
   "start_time": "2025-03-15T15:13:18.097694",
   "version": "2.6.0"
  }
 },
 "nbformat": 4,
 "nbformat_minor": 5
}
